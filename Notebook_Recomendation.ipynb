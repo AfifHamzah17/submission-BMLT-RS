{
  "nbformat": 4,
  "nbformat_minor": 0,
  "metadata": {
    "colab": {
      "provenance": [],
      "gpuType": "T4"
    },
    "kernelspec": {
      "name": "python3",
      "display_name": "Python 3"
    },
    "language_info": {
      "name": "python"
    },
    "accelerator": "GPU"
  },
  "cells": [
    {
      "cell_type": "markdown",
      "source": [
        "# 1. IMPORT LIBRARY"
      ],
      "metadata": {
        "id": "T1DanBiEa4Kx"
      }
    },
    {
      "cell_type": "code",
      "source": [
        "!pip install surprise"
      ],
      "metadata": {
        "colab": {
          "base_uri": "https://localhost:8080/"
        },
        "id": "6uoNXyW4kMkD",
        "outputId": "83e69018-ed99-4fd2-c4a0-7089c5dd6ae1"
      },
      "execution_count": 1,
      "outputs": [
        {
          "output_type": "stream",
          "name": "stdout",
          "text": [
            "Requirement already satisfied: surprise in /usr/local/lib/python3.11/dist-packages (0.1)\n",
            "Requirement already satisfied: scikit-surprise in /usr/local/lib/python3.11/dist-packages (from surprise) (1.1.4)\n",
            "Requirement already satisfied: joblib>=1.2.0 in /usr/local/lib/python3.11/dist-packages (from scikit-surprise->surprise) (1.5.0)\n",
            "Requirement already satisfied: numpy>=1.19.5 in /usr/local/lib/python3.11/dist-packages (from scikit-surprise->surprise) (1.26.4)\n",
            "Requirement already satisfied: scipy>=1.6.0 in /usr/local/lib/python3.11/dist-packages (from scikit-surprise->surprise) (1.15.3)\n"
          ]
        }
      ]
    },
    {
      "cell_type": "code",
      "source": [
        "!pip install numpy==1.26.4"
      ],
      "metadata": {
        "colab": {
          "base_uri": "https://localhost:8080/"
        },
        "id": "PzxaL4HbksjP",
        "outputId": "cfd5fa06-60e7-4edf-ce23-36c8284cb4e8"
      },
      "execution_count": 2,
      "outputs": [
        {
          "output_type": "stream",
          "name": "stdout",
          "text": [
            "Requirement already satisfied: numpy==1.26.4 in /usr/local/lib/python3.11/dist-packages (1.26.4)\n"
          ]
        }
      ]
    },
    {
      "cell_type": "code",
      "execution_count": 15,
      "metadata": {
        "id": "xqU1n3Edavwh"
      },
      "outputs": [],
      "source": [
        "import os\n",
        "import pandas as pd\n",
        "import matplotlib.pyplot as plt\n",
        "from sklearn.feature_extraction.text import TfidfVectorizer\n",
        "from sklearn.metrics.pairwise import cosine_similarity\n",
        "from surprise import SVD, Dataset, Reader\n",
        "from surprise.model_selection import train_test_split\n",
        "from surprise.accuracy import rmse\n",
        "from sklearn.metrics import mean_squared_error\n",
        "from math import sqrt\n",
        "import kagglehub"
      ]
    },
    {
      "cell_type": "markdown",
      "source": [
        "Insight:\n",
        "\n",
        "Pada cell ini, kita mengimpor berbagai pustaka (library) yang dibutuhkan untuk analisis dan pembuatan model rekomendasi. Pustaka-pustaka seperti surprise digunakan untuk collaborative filtering, pandas untuk manipulasi data, dan matplotlib untuk visualisasi. Selain itu, ada juga pustaka dari scikit-learn yang digunakan untuk analisis teks dan metrik evaluasi, serta pustaka lain yang mendukung pembuatan dan evaluasi model rekomendasi. Semua pustaka ini esensial untuk memproses data dan membangun sistem rekomendasi berbasis konten maupun kolaboratif."
      ],
      "metadata": {
        "id": "sKlXqkuQraMk"
      }
    },
    {
      "cell_type": "markdown",
      "source": [
        "# 2 . Load Data"
      ],
      "metadata": {
        "id": "aqTgYVIqa6l8"
      }
    },
    {
      "cell_type": "code",
      "source": [
        "# Download dataset\n",
        "path = kagglehub.dataset_download(\"prajitdatta/movielens-100k-dataset\")\n",
        "print(\"Path to dataset files:\", path)\n",
        "\n",
        "# Tambahkan subfolder \"ml-100k\"\n",
        "data_path = os.path.join(path, \"ml-100k\")\n",
        "\n",
        "# Load file\n",
        "ratings = pd.read_csv(f\"{data_path}/u.data\", sep=\"\\t\", names=[\"user_id\", \"movie_id\", \"rating\", \"timestamp\"])\n",
        "movies = pd.read_csv(f\"{data_path}/u.item\", sep=\"|\", encoding=\"latin-1\", header=None,\n",
        "                     names=[\"movie_id\", \"movie_title\", \"release_date\", \"video_release_date\", \"IMDb_URL\"] +\n",
        "                     [f\"genre_{i}\" for i in range(19)])\n",
        "\n",
        "print(\"Data berhasil dimuat.\")"
      ],
      "metadata": {
        "colab": {
          "base_uri": "https://localhost:8080/"
        },
        "id": "f9LnZkrRa6N0",
        "outputId": "74980dc9-62d3-43c7-8a10-c66ab249015c"
      },
      "execution_count": 16,
      "outputs": [
        {
          "output_type": "stream",
          "name": "stdout",
          "text": [
            "Path to dataset files: /kaggle/input/movielens-100k-dataset\n",
            "Data berhasil dimuat.\n"
          ]
        }
      ]
    },
    {
      "cell_type": "code",
      "source": [
        "ratings.head()"
      ],
      "metadata": {
        "colab": {
          "base_uri": "https://localhost:8080/",
          "height": 206
        },
        "id": "nuInNwjaoCzO",
        "outputId": "6b521934-579c-4573-9856-e0872192883e"
      },
      "execution_count": 17,
      "outputs": [
        {
          "output_type": "execute_result",
          "data": {
            "text/plain": [
              "   user_id  movie_id  rating  timestamp\n",
              "0      196       242       3  881250949\n",
              "1      186       302       3  891717742\n",
              "2       22       377       1  878887116\n",
              "3      244        51       2  880606923\n",
              "4      166       346       1  886397596"
            ],
            "text/html": [
              "\n",
              "  <div id=\"df-d4ab15bc-d46b-4161-aed6-6388895960a3\" class=\"colab-df-container\">\n",
              "    <div>\n",
              "<style scoped>\n",
              "    .dataframe tbody tr th:only-of-type {\n",
              "        vertical-align: middle;\n",
              "    }\n",
              "\n",
              "    .dataframe tbody tr th {\n",
              "        vertical-align: top;\n",
              "    }\n",
              "\n",
              "    .dataframe thead th {\n",
              "        text-align: right;\n",
              "    }\n",
              "</style>\n",
              "<table border=\"1\" class=\"dataframe\">\n",
              "  <thead>\n",
              "    <tr style=\"text-align: right;\">\n",
              "      <th></th>\n",
              "      <th>user_id</th>\n",
              "      <th>movie_id</th>\n",
              "      <th>rating</th>\n",
              "      <th>timestamp</th>\n",
              "    </tr>\n",
              "  </thead>\n",
              "  <tbody>\n",
              "    <tr>\n",
              "      <th>0</th>\n",
              "      <td>196</td>\n",
              "      <td>242</td>\n",
              "      <td>3</td>\n",
              "      <td>881250949</td>\n",
              "    </tr>\n",
              "    <tr>\n",
              "      <th>1</th>\n",
              "      <td>186</td>\n",
              "      <td>302</td>\n",
              "      <td>3</td>\n",
              "      <td>891717742</td>\n",
              "    </tr>\n",
              "    <tr>\n",
              "      <th>2</th>\n",
              "      <td>22</td>\n",
              "      <td>377</td>\n",
              "      <td>1</td>\n",
              "      <td>878887116</td>\n",
              "    </tr>\n",
              "    <tr>\n",
              "      <th>3</th>\n",
              "      <td>244</td>\n",
              "      <td>51</td>\n",
              "      <td>2</td>\n",
              "      <td>880606923</td>\n",
              "    </tr>\n",
              "    <tr>\n",
              "      <th>4</th>\n",
              "      <td>166</td>\n",
              "      <td>346</td>\n",
              "      <td>1</td>\n",
              "      <td>886397596</td>\n",
              "    </tr>\n",
              "  </tbody>\n",
              "</table>\n",
              "</div>\n",
              "    <div class=\"colab-df-buttons\">\n",
              "\n",
              "  <div class=\"colab-df-container\">\n",
              "    <button class=\"colab-df-convert\" onclick=\"convertToInteractive('df-d4ab15bc-d46b-4161-aed6-6388895960a3')\"\n",
              "            title=\"Convert this dataframe to an interactive table.\"\n",
              "            style=\"display:none;\">\n",
              "\n",
              "  <svg xmlns=\"http://www.w3.org/2000/svg\" height=\"24px\" viewBox=\"0 -960 960 960\">\n",
              "    <path d=\"M120-120v-720h720v720H120Zm60-500h600v-160H180v160Zm220 220h160v-160H400v160Zm0 220h160v-160H400v160ZM180-400h160v-160H180v160Zm440 0h160v-160H620v160ZM180-180h160v-160H180v160Zm440 0h160v-160H620v160Z\"/>\n",
              "  </svg>\n",
              "    </button>\n",
              "\n",
              "  <style>\n",
              "    .colab-df-container {\n",
              "      display:flex;\n",
              "      gap: 12px;\n",
              "    }\n",
              "\n",
              "    .colab-df-convert {\n",
              "      background-color: #E8F0FE;\n",
              "      border: none;\n",
              "      border-radius: 50%;\n",
              "      cursor: pointer;\n",
              "      display: none;\n",
              "      fill: #1967D2;\n",
              "      height: 32px;\n",
              "      padding: 0 0 0 0;\n",
              "      width: 32px;\n",
              "    }\n",
              "\n",
              "    .colab-df-convert:hover {\n",
              "      background-color: #E2EBFA;\n",
              "      box-shadow: 0px 1px 2px rgba(60, 64, 67, 0.3), 0px 1px 3px 1px rgba(60, 64, 67, 0.15);\n",
              "      fill: #174EA6;\n",
              "    }\n",
              "\n",
              "    .colab-df-buttons div {\n",
              "      margin-bottom: 4px;\n",
              "    }\n",
              "\n",
              "    [theme=dark] .colab-df-convert {\n",
              "      background-color: #3B4455;\n",
              "      fill: #D2E3FC;\n",
              "    }\n",
              "\n",
              "    [theme=dark] .colab-df-convert:hover {\n",
              "      background-color: #434B5C;\n",
              "      box-shadow: 0px 1px 3px 1px rgba(0, 0, 0, 0.15);\n",
              "      filter: drop-shadow(0px 1px 2px rgba(0, 0, 0, 0.3));\n",
              "      fill: #FFFFFF;\n",
              "    }\n",
              "  </style>\n",
              "\n",
              "    <script>\n",
              "      const buttonEl =\n",
              "        document.querySelector('#df-d4ab15bc-d46b-4161-aed6-6388895960a3 button.colab-df-convert');\n",
              "      buttonEl.style.display =\n",
              "        google.colab.kernel.accessAllowed ? 'block' : 'none';\n",
              "\n",
              "      async function convertToInteractive(key) {\n",
              "        const element = document.querySelector('#df-d4ab15bc-d46b-4161-aed6-6388895960a3');\n",
              "        const dataTable =\n",
              "          await google.colab.kernel.invokeFunction('convertToInteractive',\n",
              "                                                    [key], {});\n",
              "        if (!dataTable) return;\n",
              "\n",
              "        const docLinkHtml = 'Like what you see? Visit the ' +\n",
              "          '<a target=\"_blank\" href=https://colab.research.google.com/notebooks/data_table.ipynb>data table notebook</a>'\n",
              "          + ' to learn more about interactive tables.';\n",
              "        element.innerHTML = '';\n",
              "        dataTable['output_type'] = 'display_data';\n",
              "        await google.colab.output.renderOutput(dataTable, element);\n",
              "        const docLink = document.createElement('div');\n",
              "        docLink.innerHTML = docLinkHtml;\n",
              "        element.appendChild(docLink);\n",
              "      }\n",
              "    </script>\n",
              "  </div>\n",
              "\n",
              "\n",
              "    <div id=\"df-2927c54b-e03f-44b8-af6e-bd62e0a55732\">\n",
              "      <button class=\"colab-df-quickchart\" onclick=\"quickchart('df-2927c54b-e03f-44b8-af6e-bd62e0a55732')\"\n",
              "                title=\"Suggest charts\"\n",
              "                style=\"display:none;\">\n",
              "\n",
              "<svg xmlns=\"http://www.w3.org/2000/svg\" height=\"24px\"viewBox=\"0 0 24 24\"\n",
              "     width=\"24px\">\n",
              "    <g>\n",
              "        <path d=\"M19 3H5c-1.1 0-2 .9-2 2v14c0 1.1.9 2 2 2h14c1.1 0 2-.9 2-2V5c0-1.1-.9-2-2-2zM9 17H7v-7h2v7zm4 0h-2V7h2v10zm4 0h-2v-4h2v4z\"/>\n",
              "    </g>\n",
              "</svg>\n",
              "      </button>\n",
              "\n",
              "<style>\n",
              "  .colab-df-quickchart {\n",
              "      --bg-color: #E8F0FE;\n",
              "      --fill-color: #1967D2;\n",
              "      --hover-bg-color: #E2EBFA;\n",
              "      --hover-fill-color: #174EA6;\n",
              "      --disabled-fill-color: #AAA;\n",
              "      --disabled-bg-color: #DDD;\n",
              "  }\n",
              "\n",
              "  [theme=dark] .colab-df-quickchart {\n",
              "      --bg-color: #3B4455;\n",
              "      --fill-color: #D2E3FC;\n",
              "      --hover-bg-color: #434B5C;\n",
              "      --hover-fill-color: #FFFFFF;\n",
              "      --disabled-bg-color: #3B4455;\n",
              "      --disabled-fill-color: #666;\n",
              "  }\n",
              "\n",
              "  .colab-df-quickchart {\n",
              "    background-color: var(--bg-color);\n",
              "    border: none;\n",
              "    border-radius: 50%;\n",
              "    cursor: pointer;\n",
              "    display: none;\n",
              "    fill: var(--fill-color);\n",
              "    height: 32px;\n",
              "    padding: 0;\n",
              "    width: 32px;\n",
              "  }\n",
              "\n",
              "  .colab-df-quickchart:hover {\n",
              "    background-color: var(--hover-bg-color);\n",
              "    box-shadow: 0 1px 2px rgba(60, 64, 67, 0.3), 0 1px 3px 1px rgba(60, 64, 67, 0.15);\n",
              "    fill: var(--button-hover-fill-color);\n",
              "  }\n",
              "\n",
              "  .colab-df-quickchart-complete:disabled,\n",
              "  .colab-df-quickchart-complete:disabled:hover {\n",
              "    background-color: var(--disabled-bg-color);\n",
              "    fill: var(--disabled-fill-color);\n",
              "    box-shadow: none;\n",
              "  }\n",
              "\n",
              "  .colab-df-spinner {\n",
              "    border: 2px solid var(--fill-color);\n",
              "    border-color: transparent;\n",
              "    border-bottom-color: var(--fill-color);\n",
              "    animation:\n",
              "      spin 1s steps(1) infinite;\n",
              "  }\n",
              "\n",
              "  @keyframes spin {\n",
              "    0% {\n",
              "      border-color: transparent;\n",
              "      border-bottom-color: var(--fill-color);\n",
              "      border-left-color: var(--fill-color);\n",
              "    }\n",
              "    20% {\n",
              "      border-color: transparent;\n",
              "      border-left-color: var(--fill-color);\n",
              "      border-top-color: var(--fill-color);\n",
              "    }\n",
              "    30% {\n",
              "      border-color: transparent;\n",
              "      border-left-color: var(--fill-color);\n",
              "      border-top-color: var(--fill-color);\n",
              "      border-right-color: var(--fill-color);\n",
              "    }\n",
              "    40% {\n",
              "      border-color: transparent;\n",
              "      border-right-color: var(--fill-color);\n",
              "      border-top-color: var(--fill-color);\n",
              "    }\n",
              "    60% {\n",
              "      border-color: transparent;\n",
              "      border-right-color: var(--fill-color);\n",
              "    }\n",
              "    80% {\n",
              "      border-color: transparent;\n",
              "      border-right-color: var(--fill-color);\n",
              "      border-bottom-color: var(--fill-color);\n",
              "    }\n",
              "    90% {\n",
              "      border-color: transparent;\n",
              "      border-bottom-color: var(--fill-color);\n",
              "    }\n",
              "  }\n",
              "</style>\n",
              "\n",
              "      <script>\n",
              "        async function quickchart(key) {\n",
              "          const quickchartButtonEl =\n",
              "            document.querySelector('#' + key + ' button');\n",
              "          quickchartButtonEl.disabled = true;  // To prevent multiple clicks.\n",
              "          quickchartButtonEl.classList.add('colab-df-spinner');\n",
              "          try {\n",
              "            const charts = await google.colab.kernel.invokeFunction(\n",
              "                'suggestCharts', [key], {});\n",
              "          } catch (error) {\n",
              "            console.error('Error during call to suggestCharts:', error);\n",
              "          }\n",
              "          quickchartButtonEl.classList.remove('colab-df-spinner');\n",
              "          quickchartButtonEl.classList.add('colab-df-quickchart-complete');\n",
              "        }\n",
              "        (() => {\n",
              "          let quickchartButtonEl =\n",
              "            document.querySelector('#df-2927c54b-e03f-44b8-af6e-bd62e0a55732 button');\n",
              "          quickchartButtonEl.style.display =\n",
              "            google.colab.kernel.accessAllowed ? 'block' : 'none';\n",
              "        })();\n",
              "      </script>\n",
              "    </div>\n",
              "\n",
              "    </div>\n",
              "  </div>\n"
            ],
            "application/vnd.google.colaboratory.intrinsic+json": {
              "type": "dataframe",
              "variable_name": "ratings",
              "summary": "{\n  \"name\": \"ratings\",\n  \"rows\": 100000,\n  \"fields\": [\n    {\n      \"column\": \"user_id\",\n      \"properties\": {\n        \"dtype\": \"number\",\n        \"std\": 266,\n        \"min\": 1,\n        \"max\": 943,\n        \"num_unique_values\": 943,\n        \"samples\": [\n          262,\n          136,\n          821\n        ],\n        \"semantic_type\": \"\",\n        \"description\": \"\"\n      }\n    },\n    {\n      \"column\": \"movie_id\",\n      \"properties\": {\n        \"dtype\": \"number\",\n        \"std\": 330,\n        \"min\": 1,\n        \"max\": 1682,\n        \"num_unique_values\": 1682,\n        \"samples\": [\n          1557,\n          808,\n          1618\n        ],\n        \"semantic_type\": \"\",\n        \"description\": \"\"\n      }\n    },\n    {\n      \"column\": \"rating\",\n      \"properties\": {\n        \"dtype\": \"number\",\n        \"std\": 1,\n        \"min\": 1,\n        \"max\": 5,\n        \"num_unique_values\": 5,\n        \"samples\": [\n          1,\n          5,\n          2\n        ],\n        \"semantic_type\": \"\",\n        \"description\": \"\"\n      }\n    },\n    {\n      \"column\": \"timestamp\",\n      \"properties\": {\n        \"dtype\": \"number\",\n        \"std\": 5343856,\n        \"min\": 874724710,\n        \"max\": 893286638,\n        \"num_unique_values\": 49282,\n        \"samples\": [\n          889728713,\n          888443306,\n          880605158\n        ],\n        \"semantic_type\": \"\",\n        \"description\": \"\"\n      }\n    }\n  ]\n}"
            }
          },
          "metadata": {},
          "execution_count": 17
        }
      ]
    },
    {
      "cell_type": "code",
      "source": [
        "movies.head()"
      ],
      "metadata": {
        "colab": {
          "base_uri": "https://localhost:8080/",
          "height": 377
        },
        "id": "tn8DfI2hoFTT",
        "outputId": "0dbe14c5-7ea0-4c2d-bc1a-ba4a1306e2d7"
      },
      "execution_count": 18,
      "outputs": [
        {
          "output_type": "execute_result",
          "data": {
            "text/plain": [
              "   movie_id        movie_title release_date  video_release_date  \\\n",
              "0         1   Toy Story (1995)  01-Jan-1995                 NaN   \n",
              "1         2   GoldenEye (1995)  01-Jan-1995                 NaN   \n",
              "2         3  Four Rooms (1995)  01-Jan-1995                 NaN   \n",
              "3         4  Get Shorty (1995)  01-Jan-1995                 NaN   \n",
              "4         5     Copycat (1995)  01-Jan-1995                 NaN   \n",
              "\n",
              "                                            IMDb_URL  genre_0  genre_1  \\\n",
              "0  http://us.imdb.com/M/title-exact?Toy%20Story%2...        0        0   \n",
              "1  http://us.imdb.com/M/title-exact?GoldenEye%20(...        0        1   \n",
              "2  http://us.imdb.com/M/title-exact?Four%20Rooms%...        0        0   \n",
              "3  http://us.imdb.com/M/title-exact?Get%20Shorty%...        0        1   \n",
              "4  http://us.imdb.com/M/title-exact?Copycat%20(1995)        0        0   \n",
              "\n",
              "   genre_2  genre_3  genre_4  ...  genre_9  genre_10  genre_11  genre_12  \\\n",
              "0        0        1        1  ...        0         0         0         0   \n",
              "1        1        0        0  ...        0         0         0         0   \n",
              "2        0        0        0  ...        0         0         0         0   \n",
              "3        0        0        0  ...        0         0         0         0   \n",
              "4        0        0        0  ...        0         0         0         0   \n",
              "\n",
              "   genre_13  genre_14  genre_15  genre_16  genre_17  genre_18  \n",
              "0         0         0         0         0         0         0  \n",
              "1         0         0         0         1         0         0  \n",
              "2         0         0         0         1         0         0  \n",
              "3         0         0         0         0         0         0  \n",
              "4         0         0         0         1         0         0  \n",
              "\n",
              "[5 rows x 24 columns]"
            ],
            "text/html": [
              "\n",
              "  <div id=\"df-2b1bbe06-cfa3-473f-ba26-86a77ab8343a\" class=\"colab-df-container\">\n",
              "    <div>\n",
              "<style scoped>\n",
              "    .dataframe tbody tr th:only-of-type {\n",
              "        vertical-align: middle;\n",
              "    }\n",
              "\n",
              "    .dataframe tbody tr th {\n",
              "        vertical-align: top;\n",
              "    }\n",
              "\n",
              "    .dataframe thead th {\n",
              "        text-align: right;\n",
              "    }\n",
              "</style>\n",
              "<table border=\"1\" class=\"dataframe\">\n",
              "  <thead>\n",
              "    <tr style=\"text-align: right;\">\n",
              "      <th></th>\n",
              "      <th>movie_id</th>\n",
              "      <th>movie_title</th>\n",
              "      <th>release_date</th>\n",
              "      <th>video_release_date</th>\n",
              "      <th>IMDb_URL</th>\n",
              "      <th>genre_0</th>\n",
              "      <th>genre_1</th>\n",
              "      <th>genre_2</th>\n",
              "      <th>genre_3</th>\n",
              "      <th>genre_4</th>\n",
              "      <th>...</th>\n",
              "      <th>genre_9</th>\n",
              "      <th>genre_10</th>\n",
              "      <th>genre_11</th>\n",
              "      <th>genre_12</th>\n",
              "      <th>genre_13</th>\n",
              "      <th>genre_14</th>\n",
              "      <th>genre_15</th>\n",
              "      <th>genre_16</th>\n",
              "      <th>genre_17</th>\n",
              "      <th>genre_18</th>\n",
              "    </tr>\n",
              "  </thead>\n",
              "  <tbody>\n",
              "    <tr>\n",
              "      <th>0</th>\n",
              "      <td>1</td>\n",
              "      <td>Toy Story (1995)</td>\n",
              "      <td>01-Jan-1995</td>\n",
              "      <td>NaN</td>\n",
              "      <td>http://us.imdb.com/M/title-exact?Toy%20Story%2...</td>\n",
              "      <td>0</td>\n",
              "      <td>0</td>\n",
              "      <td>0</td>\n",
              "      <td>1</td>\n",
              "      <td>1</td>\n",
              "      <td>...</td>\n",
              "      <td>0</td>\n",
              "      <td>0</td>\n",
              "      <td>0</td>\n",
              "      <td>0</td>\n",
              "      <td>0</td>\n",
              "      <td>0</td>\n",
              "      <td>0</td>\n",
              "      <td>0</td>\n",
              "      <td>0</td>\n",
              "      <td>0</td>\n",
              "    </tr>\n",
              "    <tr>\n",
              "      <th>1</th>\n",
              "      <td>2</td>\n",
              "      <td>GoldenEye (1995)</td>\n",
              "      <td>01-Jan-1995</td>\n",
              "      <td>NaN</td>\n",
              "      <td>http://us.imdb.com/M/title-exact?GoldenEye%20(...</td>\n",
              "      <td>0</td>\n",
              "      <td>1</td>\n",
              "      <td>1</td>\n",
              "      <td>0</td>\n",
              "      <td>0</td>\n",
              "      <td>...</td>\n",
              "      <td>0</td>\n",
              "      <td>0</td>\n",
              "      <td>0</td>\n",
              "      <td>0</td>\n",
              "      <td>0</td>\n",
              "      <td>0</td>\n",
              "      <td>0</td>\n",
              "      <td>1</td>\n",
              "      <td>0</td>\n",
              "      <td>0</td>\n",
              "    </tr>\n",
              "    <tr>\n",
              "      <th>2</th>\n",
              "      <td>3</td>\n",
              "      <td>Four Rooms (1995)</td>\n",
              "      <td>01-Jan-1995</td>\n",
              "      <td>NaN</td>\n",
              "      <td>http://us.imdb.com/M/title-exact?Four%20Rooms%...</td>\n",
              "      <td>0</td>\n",
              "      <td>0</td>\n",
              "      <td>0</td>\n",
              "      <td>0</td>\n",
              "      <td>0</td>\n",
              "      <td>...</td>\n",
              "      <td>0</td>\n",
              "      <td>0</td>\n",
              "      <td>0</td>\n",
              "      <td>0</td>\n",
              "      <td>0</td>\n",
              "      <td>0</td>\n",
              "      <td>0</td>\n",
              "      <td>1</td>\n",
              "      <td>0</td>\n",
              "      <td>0</td>\n",
              "    </tr>\n",
              "    <tr>\n",
              "      <th>3</th>\n",
              "      <td>4</td>\n",
              "      <td>Get Shorty (1995)</td>\n",
              "      <td>01-Jan-1995</td>\n",
              "      <td>NaN</td>\n",
              "      <td>http://us.imdb.com/M/title-exact?Get%20Shorty%...</td>\n",
              "      <td>0</td>\n",
              "      <td>1</td>\n",
              "      <td>0</td>\n",
              "      <td>0</td>\n",
              "      <td>0</td>\n",
              "      <td>...</td>\n",
              "      <td>0</td>\n",
              "      <td>0</td>\n",
              "      <td>0</td>\n",
              "      <td>0</td>\n",
              "      <td>0</td>\n",
              "      <td>0</td>\n",
              "      <td>0</td>\n",
              "      <td>0</td>\n",
              "      <td>0</td>\n",
              "      <td>0</td>\n",
              "    </tr>\n",
              "    <tr>\n",
              "      <th>4</th>\n",
              "      <td>5</td>\n",
              "      <td>Copycat (1995)</td>\n",
              "      <td>01-Jan-1995</td>\n",
              "      <td>NaN</td>\n",
              "      <td>http://us.imdb.com/M/title-exact?Copycat%20(1995)</td>\n",
              "      <td>0</td>\n",
              "      <td>0</td>\n",
              "      <td>0</td>\n",
              "      <td>0</td>\n",
              "      <td>0</td>\n",
              "      <td>...</td>\n",
              "      <td>0</td>\n",
              "      <td>0</td>\n",
              "      <td>0</td>\n",
              "      <td>0</td>\n",
              "      <td>0</td>\n",
              "      <td>0</td>\n",
              "      <td>0</td>\n",
              "      <td>1</td>\n",
              "      <td>0</td>\n",
              "      <td>0</td>\n",
              "    </tr>\n",
              "  </tbody>\n",
              "</table>\n",
              "<p>5 rows × 24 columns</p>\n",
              "</div>\n",
              "    <div class=\"colab-df-buttons\">\n",
              "\n",
              "  <div class=\"colab-df-container\">\n",
              "    <button class=\"colab-df-convert\" onclick=\"convertToInteractive('df-2b1bbe06-cfa3-473f-ba26-86a77ab8343a')\"\n",
              "            title=\"Convert this dataframe to an interactive table.\"\n",
              "            style=\"display:none;\">\n",
              "\n",
              "  <svg xmlns=\"http://www.w3.org/2000/svg\" height=\"24px\" viewBox=\"0 -960 960 960\">\n",
              "    <path d=\"M120-120v-720h720v720H120Zm60-500h600v-160H180v160Zm220 220h160v-160H400v160Zm0 220h160v-160H400v160ZM180-400h160v-160H180v160Zm440 0h160v-160H620v160ZM180-180h160v-160H180v160Zm440 0h160v-160H620v160Z\"/>\n",
              "  </svg>\n",
              "    </button>\n",
              "\n",
              "  <style>\n",
              "    .colab-df-container {\n",
              "      display:flex;\n",
              "      gap: 12px;\n",
              "    }\n",
              "\n",
              "    .colab-df-convert {\n",
              "      background-color: #E8F0FE;\n",
              "      border: none;\n",
              "      border-radius: 50%;\n",
              "      cursor: pointer;\n",
              "      display: none;\n",
              "      fill: #1967D2;\n",
              "      height: 32px;\n",
              "      padding: 0 0 0 0;\n",
              "      width: 32px;\n",
              "    }\n",
              "\n",
              "    .colab-df-convert:hover {\n",
              "      background-color: #E2EBFA;\n",
              "      box-shadow: 0px 1px 2px rgba(60, 64, 67, 0.3), 0px 1px 3px 1px rgba(60, 64, 67, 0.15);\n",
              "      fill: #174EA6;\n",
              "    }\n",
              "\n",
              "    .colab-df-buttons div {\n",
              "      margin-bottom: 4px;\n",
              "    }\n",
              "\n",
              "    [theme=dark] .colab-df-convert {\n",
              "      background-color: #3B4455;\n",
              "      fill: #D2E3FC;\n",
              "    }\n",
              "\n",
              "    [theme=dark] .colab-df-convert:hover {\n",
              "      background-color: #434B5C;\n",
              "      box-shadow: 0px 1px 3px 1px rgba(0, 0, 0, 0.15);\n",
              "      filter: drop-shadow(0px 1px 2px rgba(0, 0, 0, 0.3));\n",
              "      fill: #FFFFFF;\n",
              "    }\n",
              "  </style>\n",
              "\n",
              "    <script>\n",
              "      const buttonEl =\n",
              "        document.querySelector('#df-2b1bbe06-cfa3-473f-ba26-86a77ab8343a button.colab-df-convert');\n",
              "      buttonEl.style.display =\n",
              "        google.colab.kernel.accessAllowed ? 'block' : 'none';\n",
              "\n",
              "      async function convertToInteractive(key) {\n",
              "        const element = document.querySelector('#df-2b1bbe06-cfa3-473f-ba26-86a77ab8343a');\n",
              "        const dataTable =\n",
              "          await google.colab.kernel.invokeFunction('convertToInteractive',\n",
              "                                                    [key], {});\n",
              "        if (!dataTable) return;\n",
              "\n",
              "        const docLinkHtml = 'Like what you see? Visit the ' +\n",
              "          '<a target=\"_blank\" href=https://colab.research.google.com/notebooks/data_table.ipynb>data table notebook</a>'\n",
              "          + ' to learn more about interactive tables.';\n",
              "        element.innerHTML = '';\n",
              "        dataTable['output_type'] = 'display_data';\n",
              "        await google.colab.output.renderOutput(dataTable, element);\n",
              "        const docLink = document.createElement('div');\n",
              "        docLink.innerHTML = docLinkHtml;\n",
              "        element.appendChild(docLink);\n",
              "      }\n",
              "    </script>\n",
              "  </div>\n",
              "\n",
              "\n",
              "    <div id=\"df-6ca95189-90d3-4c50-b9f8-94532e632d96\">\n",
              "      <button class=\"colab-df-quickchart\" onclick=\"quickchart('df-6ca95189-90d3-4c50-b9f8-94532e632d96')\"\n",
              "                title=\"Suggest charts\"\n",
              "                style=\"display:none;\">\n",
              "\n",
              "<svg xmlns=\"http://www.w3.org/2000/svg\" height=\"24px\"viewBox=\"0 0 24 24\"\n",
              "     width=\"24px\">\n",
              "    <g>\n",
              "        <path d=\"M19 3H5c-1.1 0-2 .9-2 2v14c0 1.1.9 2 2 2h14c1.1 0 2-.9 2-2V5c0-1.1-.9-2-2-2zM9 17H7v-7h2v7zm4 0h-2V7h2v10zm4 0h-2v-4h2v4z\"/>\n",
              "    </g>\n",
              "</svg>\n",
              "      </button>\n",
              "\n",
              "<style>\n",
              "  .colab-df-quickchart {\n",
              "      --bg-color: #E8F0FE;\n",
              "      --fill-color: #1967D2;\n",
              "      --hover-bg-color: #E2EBFA;\n",
              "      --hover-fill-color: #174EA6;\n",
              "      --disabled-fill-color: #AAA;\n",
              "      --disabled-bg-color: #DDD;\n",
              "  }\n",
              "\n",
              "  [theme=dark] .colab-df-quickchart {\n",
              "      --bg-color: #3B4455;\n",
              "      --fill-color: #D2E3FC;\n",
              "      --hover-bg-color: #434B5C;\n",
              "      --hover-fill-color: #FFFFFF;\n",
              "      --disabled-bg-color: #3B4455;\n",
              "      --disabled-fill-color: #666;\n",
              "  }\n",
              "\n",
              "  .colab-df-quickchart {\n",
              "    background-color: var(--bg-color);\n",
              "    border: none;\n",
              "    border-radius: 50%;\n",
              "    cursor: pointer;\n",
              "    display: none;\n",
              "    fill: var(--fill-color);\n",
              "    height: 32px;\n",
              "    padding: 0;\n",
              "    width: 32px;\n",
              "  }\n",
              "\n",
              "  .colab-df-quickchart:hover {\n",
              "    background-color: var(--hover-bg-color);\n",
              "    box-shadow: 0 1px 2px rgba(60, 64, 67, 0.3), 0 1px 3px 1px rgba(60, 64, 67, 0.15);\n",
              "    fill: var(--button-hover-fill-color);\n",
              "  }\n",
              "\n",
              "  .colab-df-quickchart-complete:disabled,\n",
              "  .colab-df-quickchart-complete:disabled:hover {\n",
              "    background-color: var(--disabled-bg-color);\n",
              "    fill: var(--disabled-fill-color);\n",
              "    box-shadow: none;\n",
              "  }\n",
              "\n",
              "  .colab-df-spinner {\n",
              "    border: 2px solid var(--fill-color);\n",
              "    border-color: transparent;\n",
              "    border-bottom-color: var(--fill-color);\n",
              "    animation:\n",
              "      spin 1s steps(1) infinite;\n",
              "  }\n",
              "\n",
              "  @keyframes spin {\n",
              "    0% {\n",
              "      border-color: transparent;\n",
              "      border-bottom-color: var(--fill-color);\n",
              "      border-left-color: var(--fill-color);\n",
              "    }\n",
              "    20% {\n",
              "      border-color: transparent;\n",
              "      border-left-color: var(--fill-color);\n",
              "      border-top-color: var(--fill-color);\n",
              "    }\n",
              "    30% {\n",
              "      border-color: transparent;\n",
              "      border-left-color: var(--fill-color);\n",
              "      border-top-color: var(--fill-color);\n",
              "      border-right-color: var(--fill-color);\n",
              "    }\n",
              "    40% {\n",
              "      border-color: transparent;\n",
              "      border-right-color: var(--fill-color);\n",
              "      border-top-color: var(--fill-color);\n",
              "    }\n",
              "    60% {\n",
              "      border-color: transparent;\n",
              "      border-right-color: var(--fill-color);\n",
              "    }\n",
              "    80% {\n",
              "      border-color: transparent;\n",
              "      border-right-color: var(--fill-color);\n",
              "      border-bottom-color: var(--fill-color);\n",
              "    }\n",
              "    90% {\n",
              "      border-color: transparent;\n",
              "      border-bottom-color: var(--fill-color);\n",
              "    }\n",
              "  }\n",
              "</style>\n",
              "\n",
              "      <script>\n",
              "        async function quickchart(key) {\n",
              "          const quickchartButtonEl =\n",
              "            document.querySelector('#' + key + ' button');\n",
              "          quickchartButtonEl.disabled = true;  // To prevent multiple clicks.\n",
              "          quickchartButtonEl.classList.add('colab-df-spinner');\n",
              "          try {\n",
              "            const charts = await google.colab.kernel.invokeFunction(\n",
              "                'suggestCharts', [key], {});\n",
              "          } catch (error) {\n",
              "            console.error('Error during call to suggestCharts:', error);\n",
              "          }\n",
              "          quickchartButtonEl.classList.remove('colab-df-spinner');\n",
              "          quickchartButtonEl.classList.add('colab-df-quickchart-complete');\n",
              "        }\n",
              "        (() => {\n",
              "          let quickchartButtonEl =\n",
              "            document.querySelector('#df-6ca95189-90d3-4c50-b9f8-94532e632d96 button');\n",
              "          quickchartButtonEl.style.display =\n",
              "            google.colab.kernel.accessAllowed ? 'block' : 'none';\n",
              "        })();\n",
              "      </script>\n",
              "    </div>\n",
              "\n",
              "    </div>\n",
              "  </div>\n"
            ],
            "application/vnd.google.colaboratory.intrinsic+json": {
              "type": "dataframe",
              "variable_name": "movies"
            }
          },
          "metadata": {},
          "execution_count": 18
        }
      ]
    },
    {
      "cell_type": "markdown",
      "source": [
        "Insight:\n",
        "\n",
        "Pada cell ini, dataset yang diperlukan untuk analisis dan model rekomendasi diunduh dan dimuat. Data terdiri dari dua file utama: ratings yang berisi informasi tentang rating film oleh pengguna, dan movies yang memuat informasi tentang film itu sendiri. Dataset ini digunakan untuk membangun rekomendasi berbasis rating pengguna dan juga menganalisis preferensi genre film."
      ],
      "metadata": {
        "id": "oygZ_HRprjBW"
      }
    },
    {
      "cell_type": "markdown",
      "source": [
        "# 3. DATA PREPARATION"
      ],
      "metadata": {
        "id": "At9ekBKobAVZ"
      }
    },
    {
      "cell_type": "markdown",
      "source": [
        "## 3.1 Info & Missing / Duplication"
      ],
      "metadata": {
        "id": "HiZnKZKSeMJK"
      }
    },
    {
      "cell_type": "code",
      "source": [
        "print(\"=== RATINGS INFO ===\")\n",
        "ratings.info()\n",
        "print(\"Duplicates in ratings:\", ratings.duplicated().sum())\n",
        "\n",
        "print(\"\\n=== MOVIES INFO ===\")\n",
        "movies.info()\n",
        "print(\"Duplicates in movies:\", movies.duplicated().sum())"
      ],
      "metadata": {
        "colab": {
          "base_uri": "https://localhost:8080/"
        },
        "id": "-uvIWAORbAsx",
        "outputId": "a8346b37-fad1-48dd-8f9a-39eac8f3b142"
      },
      "execution_count": 19,
      "outputs": [
        {
          "output_type": "stream",
          "name": "stdout",
          "text": [
            "=== RATINGS INFO ===\n",
            "<class 'pandas.core.frame.DataFrame'>\n",
            "RangeIndex: 100000 entries, 0 to 99999\n",
            "Data columns (total 4 columns):\n",
            " #   Column     Non-Null Count   Dtype\n",
            "---  ------     --------------   -----\n",
            " 0   user_id    100000 non-null  int64\n",
            " 1   movie_id   100000 non-null  int64\n",
            " 2   rating     100000 non-null  int64\n",
            " 3   timestamp  100000 non-null  int64\n",
            "dtypes: int64(4)\n",
            "memory usage: 3.1 MB\n",
            "Duplicates in ratings: 0\n",
            "\n",
            "=== MOVIES INFO ===\n",
            "<class 'pandas.core.frame.DataFrame'>\n",
            "RangeIndex: 1682 entries, 0 to 1681\n",
            "Data columns (total 24 columns):\n",
            " #   Column              Non-Null Count  Dtype  \n",
            "---  ------              --------------  -----  \n",
            " 0   movie_id            1682 non-null   int64  \n",
            " 1   movie_title         1682 non-null   object \n",
            " 2   release_date        1681 non-null   object \n",
            " 3   video_release_date  0 non-null      float64\n",
            " 4   IMDb_URL            1679 non-null   object \n",
            " 5   genre_0             1682 non-null   int64  \n",
            " 6   genre_1             1682 non-null   int64  \n",
            " 7   genre_2             1682 non-null   int64  \n",
            " 8   genre_3             1682 non-null   int64  \n",
            " 9   genre_4             1682 non-null   int64  \n",
            " 10  genre_5             1682 non-null   int64  \n",
            " 11  genre_6             1682 non-null   int64  \n",
            " 12  genre_7             1682 non-null   int64  \n",
            " 13  genre_8             1682 non-null   int64  \n",
            " 14  genre_9             1682 non-null   int64  \n",
            " 15  genre_10            1682 non-null   int64  \n",
            " 16  genre_11            1682 non-null   int64  \n",
            " 17  genre_12            1682 non-null   int64  \n",
            " 18  genre_13            1682 non-null   int64  \n",
            " 19  genre_14            1682 non-null   int64  \n",
            " 20  genre_15            1682 non-null   int64  \n",
            " 21  genre_16            1682 non-null   int64  \n",
            " 22  genre_17            1682 non-null   int64  \n",
            " 23  genre_18            1682 non-null   int64  \n",
            "dtypes: float64(1), int64(20), object(3)\n",
            "memory usage: 315.5+ KB\n",
            "Duplicates in movies: 0\n"
          ]
        }
      ]
    },
    {
      "cell_type": "markdown",
      "source": [
        "Insight:\n",
        "\n",
        "Cell ini mengecek informasi tentang dataset, termasuk jumlah entri, kolom, tipe data, serta memeriksa apakah ada data yang hilang atau duplikat. Data yang bersih dan tidak ada duplikat sangat penting agar analisis dan model yang dibangun menjadi akurat. Proses ini membantu memastikan kualitas data sebelum dilanjutkan ke tahap analisis dan pemodelan."
      ],
      "metadata": {
        "id": "XDYyP4OMrpRm"
      }
    },
    {
      "cell_type": "markdown",
      "source": [
        "## 3.2 Lowercase titles\n"
      ],
      "metadata": {
        "id": "gFnY9mI8ePB6"
      }
    },
    {
      "cell_type": "code",
      "source": [
        "movies[\"movie_title\"] = movies[\"movie_title\"].str.lower()"
      ],
      "metadata": {
        "id": "ZANuYpWQeSn9"
      },
      "execution_count": 20,
      "outputs": []
    },
    {
      "cell_type": "markdown",
      "source": [
        "Insight:\n",
        "\n",
        "Pada cell ini, judul film diubah menjadi huruf kecil. Pengubahan judul menjadi lowercase membantu menghindari masalah saat pencocokan teks, karena pencocokan teks di Python bersifat sensitif terhadap kapitalisasi. Dengan mengubah semua judul film menjadi huruf kecil, kita memastikan bahwa perbandingan antar judul dapat dilakukan dengan lebih mudah dan konsisten."
      ],
      "metadata": {
        "id": "ju6RrIixrr78"
      }
    },
    {
      "cell_type": "markdown",
      "source": [
        "## 3.3 Build a single ‘genre’ string per movie\n"
      ],
      "metadata": {
        "id": "4e4KLeLpeVOx"
      }
    },
    {
      "cell_type": "code",
      "source": [
        "genre_cols = movies.columns[5:]\n",
        "# list genre names\n",
        "genre_map = pd.read_csv(f\"{data_path}/u.genre\", sep=\"|\", names=[\"genre\",\"code\"], index_col=\"code\")\n",
        "# from binary columns to list of genres\n",
        "def extract_genres(row):\n",
        "    return \",\".join([genre_map.loc[int(col.split(\"_\")[1]),\"genre\"]\n",
        "                     for col in genre_cols if row[col]==1])\n",
        "movies[\"genre\"] = movies.apply(extract_genres, axis=1)\n"
      ],
      "metadata": {
        "id": "2XxaWxHHeWwN"
      },
      "execution_count": 22,
      "outputs": []
    },
    {
      "cell_type": "markdown",
      "source": [
        "Insight:\n",
        "\n",
        "Di cell ini, kolom genre diubah menjadi format string tunggal untuk setiap film. Setiap genre disusun berdasarkan nilai 1 di kolom genre_0 hingga genre_18, yang menunjukkan genre apa yang dimiliki oleh film tersebut. Kemudian, genre-genre ini digabungkan menjadi satu kolom string yang memuat genre-genre terkait, yang memudahkan dalam analisis lebih lanjut."
      ],
      "metadata": {
        "id": "jcVEpUvUruzx"
      }
    },
    {
      "cell_type": "markdown",
      "source": [
        "# 4. EXPLORATORY DATA ANALYSIS"
      ],
      "metadata": {
        "id": "dTdMya5pbRjm"
      }
    },
    {
      "cell_type": "markdown",
      "source": [
        "## 4.1 Statistik Umum Dataset"
      ],
      "metadata": {
        "id": "jTvo7TENgODY"
      }
    },
    {
      "cell_type": "code",
      "source": [
        "print(\"Jumlah user  :\", ratings[\"user_id\"].nunique())\n",
        "print(\"Jumlah movie :\", movies[\"movie_id\"].nunique())\n",
        "print(\"Jumlah rating:\", len(ratings))\n",
        "print(f\"Sparsity     : {1 - len(ratings)/(ratings['user_id'].nunique()*movies['movie_id'].nunique()):.2%}\")"
      ],
      "metadata": {
        "colab": {
          "base_uri": "https://localhost:8080/"
        },
        "id": "G4o7bHiMgLwr",
        "outputId": "5c7c0fe7-4716-47b3-d910-9ab097822bab"
      },
      "execution_count": 23,
      "outputs": [
        {
          "output_type": "stream",
          "name": "stdout",
          "text": [
            "Jumlah user  : 943\n",
            "Jumlah movie : 1682\n",
            "Jumlah rating: 100000\n",
            "Sparsity     : 93.70%\n"
          ]
        }
      ]
    },
    {
      "cell_type": "markdown",
      "source": [
        "Insight:\n",
        "\n",
        "Pada cell ini, dilakukan analisis deskriptif untuk mendapatkan gambaran umum mengenai dataset. Informasi seperti jumlah pengguna, film, rating, dan sparsity (kelangkaan data) dihitung. Sparsity memberikan informasi tentang seberapa banyak data yang hilang, yang penting dalam sistem rekomendasi karena sparsity tinggi dapat menyebabkan kesulitan dalam membangun model yang akurat."
      ],
      "metadata": {
        "id": "As3rY1jQrx6J"
      }
    },
    {
      "cell_type": "markdown",
      "source": [
        "## 4.2 Distribusi Rating"
      ],
      "metadata": {
        "id": "CrHogiPagHsU"
      }
    },
    {
      "cell_type": "code",
      "source": [
        "plt.figure(figsize=(8,4))\n",
        "ratings[\"rating\"].value_counts().sort_index().plot(kind=\"bar\")\n",
        "plt.title(\"Distribusi Rating (1–5)\")\n",
        "plt.xlabel(\"Rating\")\n",
        "plt.ylabel(\"Jumlah Rating\")\n",
        "plt.show()\n",
        "\n",
        "# Menampilkan jumlah rating dari 0 hingga 5\n",
        "rating_counts = ratings[\"rating\"].value_counts().sort_index()\n",
        "\n",
        "# Menambahkan rating 0 hingga 5, meskipun rating tertentu tidak ada\n",
        "rating_counts = rating_counts.reindex(range(6))\n",
        "\n",
        "print(\"Jumlah Rating per Nilai Rating:\")\n",
        "print(rating_counts)"
      ],
      "metadata": {
        "colab": {
          "base_uri": "https://localhost:8080/",
          "height": 569
        },
        "id": "kYnd1QsPf6K9",
        "outputId": "c1e8e9dc-cb77-4d2e-b2c4-d839373d28af"
      },
      "execution_count": 29,
      "outputs": [
        {
          "output_type": "display_data",
          "data": {
            "text/plain": [
              "<Figure size 800x400 with 1 Axes>"
            ],
            "image/png": "[encoded data removed]"
          },
          "metadata": {}
        },
        {
          "output_type": "stream",
          "name": "stdout",
          "text": [
            "Jumlah Rating per Nilai Rating:\n",
            "rating\n",
            "0        NaN\n",
            "1     6110.0\n",
            "2    11370.0\n",
            "3    27145.0\n",
            "4    34174.0\n",
            "5    21201.0\n",
            "Name: count, dtype: float64\n"
          ]
        }
      ]
    },
    {
      "cell_type": "markdown",
      "source": [
        "Insight:\n",
        "\n",
        "Cell ini menampilkan distribusi rating untuk film, yang memberikan gambaran sebaran nilai rating dari 1 hingga 5. Visualisasi ini membantu kita memahami bagaimana preferensi pengguna terhadap film. Sebagian besar rating cenderung berkumpul di sekitar nilai 3-5, yang umum ditemukan dalam banyak sistem rating."
      ],
      "metadata": {
        "id": "Qnv5BVIor1gD"
      }
    },
    {
      "cell_type": "markdown",
      "source": [
        "## 4.3 Aktivitas User: Rating per User"
      ],
      "metadata": {
        "id": "3yiSvBTGgCP4"
      }
    },
    {
      "cell_type": "code",
      "source": [
        "ratings_per_user = ratings.groupby(\"user_id\").size()\n",
        "plt.figure(figsize=(8,4))\n",
        "ratings_per_user.plot(kind=\"hist\", bins=50)\n",
        "plt.title(\"Distribusi Jumlah Rating per User\")\n",
        "plt.xlabel(\"Jumlah Rating\")\n",
        "plt.ylabel(\"Jumlah User\")\n",
        "plt.show()\n",
        "print(\"User paling aktif memberi rating:\", ratings_per_user.max())"
      ],
      "metadata": {
        "colab": {
          "base_uri": "https://localhost:8080/",
          "height": 428
        },
        "id": "jiUyfC2Jf6Ha",
        "outputId": "3501a63b-2376-4906-e589-8d5e03fe8600"
      },
      "execution_count": 25,
      "outputs": [
        {
          "output_type": "display_data",
          "data": {
            "text/plain": [
              "<Figure size 800x400 with 1 Axes>"
            ],
            "image/png": "[encoded data removed]"
          },
          "metadata": {}
        },
        {
          "output_type": "stream",
          "name": "stdout",
          "text": [
            "User paling aktif memberi rating: 737\n"
          ]
        }
      ]
    },
    {
      "cell_type": "markdown",
      "source": [
        "Insight:\n",
        "\n",
        "Di cell ini, kita menganalisis sebaran jumlah rating yang diberikan oleh pengguna. Hal ini memberikan wawasan tentang aktivitas pengguna, apakah mereka aktif memberikan rating atau tidak. Distribusi ini penting untuk memahami pola penggunaan dan untuk mempersiapkan data dalam membangun model yang mempertimbangkan preferensi pengguna."
      ],
      "metadata": {
        "id": "5vk6eRmrr5MQ"
      }
    },
    {
      "cell_type": "markdown",
      "source": [
        "## 4.4 Popularitas Film: Rating per Movie"
      ],
      "metadata": {
        "id": "nfrMa4CCf6pm"
      }
    },
    {
      "cell_type": "code",
      "source": [
        "# Mendapatkan top 10 movie_id yang paling sering dirating\n",
        "ratings_per_movie = ratings.groupby(\"movie_id\").size().sort_values(ascending=False)\n",
        "top10_movies_by_count = ratings_per_movie.head(10).index\n",
        "\n",
        "# Menampilkan movie_id yang paling sering dirating\n",
        "print(\"Top 10 film paling sering dirating (movie_id):\")\n",
        "print(top10_movies_by_count.tolist())\n",
        "\n",
        "# Mendapatkan judul film berdasarkan movie_id\n",
        "top10_movies = movies[movies[\"movie_id\"].isin(top10_movies_by_count)][[\"movie_id\", \"movie_title\"]]\n",
        "\n",
        "# Tampilkan judul film\n",
        "print(\"\\nTop 10 Film Paling Sering Dirating:\")\n",
        "print(top10_movies)\n",
        "\n",
        "# Plot grafik jumlah rating untuk 10 film paling sering dirating\n",
        "plt.figure(figsize=(10,4))\n",
        "ratings_per_movie.head(10).plot(kind=\"bar\")\n",
        "plt.title(\"10 Film dengan Jumlah Rating Terbanyak\")\n",
        "plt.xlabel(\"movie_id\")\n",
        "plt.ylabel(\"Jumlah Rating\")\n",
        "plt.show()\n"
      ],
      "metadata": {
        "colab": {
          "base_uri": "https://localhost:8080/",
          "height": 697
        },
        "id": "dN32swlgfxaI",
        "outputId": "b47c7eac-5e12-4a43-e0cb-a5895cb51186"
      },
      "execution_count": 35,
      "outputs": [
        {
          "output_type": "stream",
          "name": "stdout",
          "text": [
            "Top 10 film paling sering dirating (movie_id):\n",
            "[50, 258, 100, 181, 294, 286, 288, 1, 300, 121]\n",
            "\n",
            "Top 10 Film Paling Sering Dirating:\n",
            "     movie_id                    movie_title\n",
            "0           1               toy story (1995)\n",
            "49         50               star wars (1977)\n",
            "99        100                   fargo (1996)\n",
            "120       121  independence day (id4) (1996)\n",
            "180       181      return of the jedi (1983)\n",
            "257       258                 contact (1997)\n",
            "285       286    english patient, the (1996)\n",
            "287       288                  scream (1996)\n",
            "293       294               liar liar (1997)\n",
            "299       300           air force one (1997)\n"
          ]
        },
        {
          "output_type": "display_data",
          "data": {
            "text/plain": [
              "<Figure size 1000x400 with 1 Axes>"
            ],
            "image/png": "[encoded data removed]"
          },
          "metadata": {}
        }
      ]
    },
    {
      "cell_type": "markdown",
      "source": [
        "Insight:\n",
        "\n",
        "Pada cell ini, dilakukan analisis terhadap popularitas film berdasarkan jumlah rating yang diterima oleh film tersebut. Dengan mengevaluasi jumlah rating yang diterima oleh tiap film, kita dapat mengetahui film mana yang paling banyak ditonton dan memberikan gambaran tentang popularitasnya di antara pengguna."
      ],
      "metadata": {
        "id": "icCRvm82r78s"
      }
    },
    {
      "cell_type": "markdown",
      "source": [
        "## 4.5 Rata-Rata Rating per Movie (dengan minimal 50 ratings)"
      ],
      "metadata": {
        "id": "TdJ3xQZIfuSe"
      }
    },
    {
      "cell_type": "code",
      "source": [
        "movie_stats = ratings.groupby(\"movie_id\")[\"rating\"].agg([\"count\",\"mean\"])\n",
        "popular = movie_stats[movie_stats[\"count\"]>=50]\n",
        "top10_by_avg = popular.sort_values(\"mean\", ascending=False).head(10)\n",
        "print(\"Top 10 film terbaik (>=50 ratings) berdasarkan rata-rata:\")\n",
        "print(movies.set_index(\"movie_id\").loc[top10_by_avg.index][\"movie_title\"].tolist())\n",
        "\n",
        "plt.figure(figsize=(10,4))\n",
        "top10_by_avg[\"mean\"].plot(kind=\"bar\")\n",
        "plt.title(\"Top 10 Film Terbaik (>=50 ratings)\")\n",
        "plt.ylabel(\"Rata-Rata Rating\")\n",
        "plt.show()"
      ],
      "metadata": {
        "colab": {
          "base_uri": "https://localhost:8080/",
          "height": 479
        },
        "id": "hQRZWe91fqZ7",
        "outputId": "b979bbc2-83e4-4f04-d64a-20d84652ea86"
      },
      "execution_count": 36,
      "outputs": [
        {
          "output_type": "stream",
          "name": "stdout",
          "text": [
            "Top 10 film terbaik (>=50 ratings) berdasarkan rata-rata:\n",
            "['close shave, a (1995)', \"schindler's list (1993)\", 'wrong trousers, the (1993)', 'casablanca (1942)', 'wallace & gromit: the best of aardman animation (1996)', 'shawshank redemption, the (1994)', 'rear window (1954)', 'usual suspects, the (1995)', 'star wars (1977)', '12 angry men (1957)']\n"
          ]
        },
        {
          "output_type": "display_data",
          "data": {
            "text/plain": [
              "<Figure size 1000x400 with 1 Axes>"
            ],
            "image/png": "[encoded data removed]"
          },
          "metadata": {}
        }
      ]
    },
    {
      "cell_type": "markdown",
      "source": [
        "Insight:\n",
        "\n",
        "Di sini, dihitung rata-rata rating per film, namun hanya untuk film yang memiliki minimal 50 rating. Analisis ini berguna untuk menyaring film-film yang mendapatkan sedikit perhatian atau rating, sehingga hanya film-film populer dan sering dinilai yang dipertimbangkan dalam analisis lebih lanjut."
      ],
      "metadata": {
        "id": "sBBSse7lr-bS"
      }
    },
    {
      "cell_type": "markdown",
      "source": [
        "## 4.6 Genre Analysis"
      ],
      "metadata": {
        "id": "sxmAokk2fZaI"
      }
    },
    {
      "cell_type": "markdown",
      "source": [
        "### 4.6.1 Jumlah Film per Genre"
      ],
      "metadata": {
        "id": "Fzq_ep4LfUuA"
      }
    },
    {
      "cell_type": "code",
      "source": [
        "genre_dummies = movies[\"genre\"].str.get_dummies(sep=\",\")\n",
        "genre_counts = genre_dummies.sum().sort_values(ascending=False)\n",
        "plt.figure(figsize=(10,4))\n",
        "genre_counts.plot(kind=\"bar\")\n",
        "plt.title(\"Jumlah Film per Genre\")\n",
        "plt.ylabel(\"Jumlah Film\")\n",
        "plt.show()"
      ],
      "metadata": {
        "colab": {
          "base_uri": "https://localhost:8080/",
          "height": 471
        },
        "id": "aiFzHp1XfRe9",
        "outputId": "863d02a0-4245-4e7d-aeaf-442bd41b9c78"
      },
      "execution_count": 37,
      "outputs": [
        {
          "output_type": "display_data",
          "data": {
            "text/plain": [
              "<Figure size 1000x400 with 1 Axes>"
            ],
            "image/png": "[encoded data removed]"
          },
          "metadata": {}
        }
      ]
    },
    {
      "cell_type": "markdown",
      "source": [
        "Insight:\n",
        "\n",
        "Pada cell ini, dihitung jumlah film untuk setiap genre, dan hasilnya divisualisasikan. Ini memberikan gambaran tentang distribusi film menurut genre, apakah ada genre yang lebih dominan atau lebih jarang dalam dataset."
      ],
      "metadata": {
        "id": "8T6SS2dasA9X"
      }
    },
    {
      "cell_type": "markdown",
      "source": [
        "### 4.6.2 Rata-Rata Rating per Genre"
      ],
      "metadata": {
        "id": "_aapGKN9fKhE"
      }
    },
    {
      "cell_type": "code",
      "source": [
        "# Gabungkan genre dummies dengan rata-rata rating per movie\n",
        "movie_stats = movie_stats.join(movies.set_index(\"movie_id\")[\"genre\"])\n",
        "# Buat DF genre–rating: untuk tiap genre, ambil rata-rata rating film-film yg masuk genre itu\n",
        "genre_rating = {}\n",
        "for genre in genre_counts.index:\n",
        "    idxs = movies[movies[\"genre\"].str.contains(genre)].movie_id\n",
        "    vals = movie_stats.loc[idxs][\"mean\"]\n",
        "    genre_rating[genre] = vals.mean()\n",
        "genre_rating = pd.Series(genre_rating).sort_values(ascending=False)\n",
        "\n",
        "plt.figure(figsize=(10,4))\n",
        "genre_rating.plot(kind=\"bar\")\n",
        "plt.title(\"Rata-Rata Rating per Genre\")\n",
        "plt.ylabel(\"Rata-Rata Rating\")\n",
        "plt.show()"
      ],
      "metadata": {
        "colab": {
          "base_uri": "https://localhost:8080/",
          "height": 471
        },
        "id": "5HDEkmUMfIpp",
        "outputId": "3eccf9c0-c404-4f86-f9ae-1d2327e23b06"
      },
      "execution_count": 38,
      "outputs": [
        {
          "output_type": "display_data",
          "data": {
            "text/plain": [
              "<Figure size 1000x400 with 1 Axes>"
            ],
            "image/png": "[encoded data removed]"
          },
          "metadata": {}
        }
      ]
    },
    {
      "cell_type": "markdown",
      "source": [
        "Insight:\n",
        "\n",
        "Di cell ini, dihitung rata-rata rating per genre. Rata-rata rating ini memberikan wawasan tentang bagaimana film-film dalam genre tertentu diterima oleh pengguna. Beberapa genre mungkin memiliki rating yang lebih tinggi atau lebih rendah, yang bisa menjadi indikasi preferensi pengguna terhadap genre tersebut."
      ],
      "metadata": {
        "id": "Q41Fk3cLsDIm"
      }
    },
    {
      "cell_type": "markdown",
      "source": [
        "## 4.7 Tahun Rilis Film\n"
      ],
      "metadata": {
        "id": "ViFtQqxZe-9A"
      }
    },
    {
      "cell_type": "code",
      "source": [
        "# Konversi release_date ke datetime dan ekstrak tahun\n",
        "movies[\"release_year\"] = pd.to_datetime(movies[\"release_date\"], format=\"%d-%b-%Y\", errors=\"coerce\").dt.year\n",
        "plt.figure(figsize=(10,4))\n",
        "movies[\"release_year\"].dropna().astype(int).plot(kind=\"hist\", bins=30)\n",
        "plt.title(\"Distribusi Tahun Rilis Film\")\n",
        "plt.xlabel(\"Tahun Rilis\")\n",
        "plt.ylabel(\"Jumlah Film\")\n",
        "plt.show()"
      ],
      "metadata": {
        "colab": {
          "base_uri": "https://localhost:8080/",
          "height": 410
        },
        "id": "lGdnrEGwfESw",
        "outputId": "b045e180-1445-4d73-bf66-3653d20f93c1"
      },
      "execution_count": 39,
      "outputs": [
        {
          "output_type": "display_data",
          "data": {
            "text/plain": [
              "<Figure size 1000x400 with 1 Axes>"
            ],
            "image/png": "[encoded data removed]"
          },
          "metadata": {}
        }
      ]
    },
    {
      "cell_type": "markdown",
      "source": [
        "Insight:\n",
        "\n",
        "Cell ini mengeksplorasi distribusi tahun rilis film dalam dataset. Dengan menampilkan histogram tahun rilis, kita dapat melihat tren dalam industri film selama beberapa dekade dan bagaimana distribusi film berubah seiring waktu."
      ],
      "metadata": {
        "id": "gK-_m7OEsFid"
      }
    },
    {
      "cell_type": "markdown",
      "source": [
        "## 4.8 Film per Dekade\n"
      ],
      "metadata": {
        "id": "uqTHnlL5e6hy"
      }
    },
    {
      "cell_type": "code",
      "source": [
        "movies[\"decade\"] = (movies[\"release_year\"] // 10 * 10).astype(pd.Int64Dtype())\n",
        "decade_counts = movies[\"decade\"].value_counts().sort_index()\n",
        "plt.figure(figsize=(10,4))\n",
        "decade_counts.plot(kind=\"bar\")\n",
        "plt.title(\"Jumlah Film per Dekade\")\n",
        "plt.xlabel(\"Dekade\")\n",
        "plt.ylabel(\"Jumlah Film\")\n",
        "plt.show()"
      ],
      "metadata": {
        "colab": {
          "base_uri": "https://localhost:8080/",
          "height": 431
        },
        "id": "yAHb7BDde8QL",
        "outputId": "f1fd1df8-54f7-4433-c887-714647b33564"
      },
      "execution_count": 40,
      "outputs": [
        {
          "output_type": "display_data",
          "data": {
            "text/plain": [
              "<Figure size 1000x400 with 1 Axes>"
            ],
            "image/png": "[encoded data removed]"
          },
          "metadata": {}
        }
      ]
    },
    {
      "cell_type": "markdown",
      "source": [
        "Insight:\n",
        "\n",
        "Di sini, dilakukan analisis jumlah film per dekade, yang memberikan wawasan tentang evolusi jumlah film yang dirilis di berbagai dekade. Ini penting untuk melihat perubahan tren film dari waktu ke waktu dan bisa memberikan konteks sejarah pada dataset."
      ],
      "metadata": {
        "id": "81dzbgArsIvq"
      }
    },
    {
      "cell_type": "markdown",
      "source": [
        "# 5. MODEL CONTENT-BASED FILTERING"
      ],
      "metadata": {
        "id": "bQrKMHtFbpO6"
      }
    },
    {
      "cell_type": "code",
      "source": [
        "# Daftar nama kolom genre dari genre_0 hingga genre_18\n",
        "genre_cols = [f\"genre_{i}\" for i in range(19)]\n",
        "\n",
        "# Gabungkan genre menjadi satu kolom string\n",
        "movies[\"genre\"] = movies[genre_cols].apply(\n",
        "    lambda row: \",\".join([col.split(\"_\")[1] for col in genre_cols if row[col] == 1]), axis=1\n",
        ")\n",
        "\n",
        "# Tampilkan beberapa hasil\n",
        "print(movies[[\"movie_title\", \"genre\"]].head())\n"
      ],
      "metadata": {
        "colab": {
          "base_uri": "https://localhost:8080/"
        },
        "id": "nk96sVn6haCw",
        "outputId": "58261303-c6d2-4689-bf02-67450a457249"
      },
      "execution_count": 43,
      "outputs": [
        {
          "output_type": "stream",
          "name": "stdout",
          "text": [
            "         movie_title   genre\n",
            "0   toy story (1995)   3,4,5\n",
            "1   goldeneye (1995)  1,2,16\n",
            "2  four rooms (1995)      16\n",
            "3  get shorty (1995)   1,5,8\n",
            "4     copycat (1995)  6,8,16\n"
          ]
        }
      ]
    },
    {
      "cell_type": "markdown",
      "source": [
        "## 5.1 TF-IDF pada kolom genre\n"
      ],
      "metadata": {
        "id": "qj74Sv63h2Ks"
      }
    },
    {
      "cell_type": "code",
      "source": [
        "tfidf = TfidfVectorizer(stop_words=\"english\")\n",
        "tfidf_matrix = tfidf.fit_transform(movies[\"genre\"])"
      ],
      "metadata": {
        "id": "pcCW2YzKh0n-"
      },
      "execution_count": 44,
      "outputs": []
    },
    {
      "cell_type": "markdown",
      "source": [
        "Insight:\n",
        "\n",
        "Pada cell ini, kita menghitung representasi TF-IDF untuk genre film, yang membantu dalam memahami relevansi masing-masing genre dalam film. TF-IDF mengukur pentingnya sebuah kata (dalam hal ini, genre) dalam konteks dokumen (film) di seluruh korpus. Ini digunakan dalam pembuatan sistem rekomendasi berbasis konten.\n",
        "\n"
      ],
      "metadata": {
        "id": "jAzPALNRsNGf"
      }
    },
    {
      "cell_type": "markdown",
      "source": [
        "# 5.2 Cosine Similarity\n"
      ],
      "metadata": {
        "id": "ArJdHcu5hx4D"
      }
    },
    {
      "cell_type": "code",
      "source": [
        "cosine_sim = cosine_similarity(tfidf_matrix, tfidf_matrix)\n",
        "\n",
        "print(cosine_sim)"
      ],
      "metadata": {
        "colab": {
          "base_uri": "https://localhost:8080/"
        },
        "id": "RPmkC4nBhy11",
        "outputId": "aa11d85f-3f78-4899-ede7-c669e54f9299"
      },
      "execution_count": 46,
      "outputs": [
        {
          "output_type": "stream",
          "name": "stdout",
          "text": [
            "[[0. 0. 0. ... 0. 0. 0.]\n",
            " [0. 1. 1. ... 0. 0. 0.]\n",
            " [0. 1. 1. ... 0. 0. 0.]\n",
            " ...\n",
            " [0. 0. 0. ... 1. 0. 0.]\n",
            " [0. 0. 0. ... 0. 0. 0.]\n",
            " [0. 0. 0. ... 0. 0. 0.]]\n"
          ]
        }
      ]
    },
    {
      "cell_type": "markdown",
      "source": [
        "Insight:\n",
        "\n",
        "Cell ini menghitung kemiripan antar film berdasarkan genre mereka menggunakan cosine similarity. Ini adalah metode yang sering digunakan dalam sistem rekomendasi untuk mengukur seberapa mirip dua item (film) berdasarkan fitur mereka, seperti genre dalam hal ini. Hasilnya adalah matriks yang menunjukkan sejauh mana dua film serupa satu sama lain."
      ],
      "metadata": {
        "id": "NHj8DJWVsVTm"
      }
    },
    {
      "cell_type": "markdown",
      "source": [
        "## 5.3 Indexing judul\n"
      ],
      "metadata": {
        "id": "RxQrWNI5hsZP"
      }
    },
    {
      "cell_type": "code",
      "source": [
        "indices = pd.Series(movies.index, index=movies[\"movie_title\"]).drop_duplicates()\n",
        "\n",
        "print(indices)"
      ],
      "metadata": {
        "colab": {
          "base_uri": "https://localhost:8080/"
        },
        "id": "ExdslCAHhq5b",
        "outputId": "42e179c0-dcd2-44d1-94d6-0c52affa1f1b"
      },
      "execution_count": 48,
      "outputs": [
        {
          "output_type": "stream",
          "name": "stdout",
          "text": [
            "movie_title\n",
            "toy story (1995)                                0\n",
            "goldeneye (1995)                                1\n",
            "four rooms (1995)                               2\n",
            "get shorty (1995)                               3\n",
            "copycat (1995)                                  4\n",
            "                                             ... \n",
            "mat' i syn (1997)                            1677\n",
            "b. monkey (1998)                             1678\n",
            "sliding doors (1998)                         1679\n",
            "you so crazy (1994)                          1680\n",
            "scream of stone (schrei aus stein) (1991)    1681\n",
            "Length: 1682, dtype: int64\n"
          ]
        }
      ]
    },
    {
      "cell_type": "markdown",
      "source": [
        "Insight:\n",
        "\n",
        "Pada cell ini, kita mengindeks judul film agar lebih mudah untuk mengambil film berdasarkan nama. Pengindeksan ini sangat berguna dalam sistem rekomendasi, karena memungkinkan pencarian yang cepat dan efisien berdasarkan judul film."
      ],
      "metadata": {
        "id": "SKDgyAF7sYNo"
      }
    },
    {
      "cell_type": "markdown",
      "source": [
        "\n",
        "## 5.4 Fungsi rekomendasi CBF\n"
      ],
      "metadata": {
        "id": "5yZe1tqFhhwb"
      }
    },
    {
      "cell_type": "code",
      "source": [
        "def recommend_content(title, top_n=10):\n",
        "    idx = indices.get(title)\n",
        "    if idx is None:\n",
        "        return f\"Film '{title}' tidak ditemukan dalam database.\"\n",
        "\n",
        "    sim_scores = list(enumerate(cosine_sim[idx]))\n",
        "    sim_scores = sorted(sim_scores, key=lambda x: x[1], reverse=True)\n",
        "    sim_scores = sim_scores[1:top_n+1]\n",
        "    movie_indices = [i[0] for i in sim_scores]\n",
        "\n",
        "    return movies.iloc[movie_indices][[\"movie_title\", \"genre\"]]"
      ],
      "metadata": {
        "id": "2KIj3u43hlXM"
      },
      "execution_count": 49,
      "outputs": []
    },
    {
      "cell_type": "markdown",
      "source": [
        "Insight:\n",
        "\n",
        "Fungsi ini dirancang untuk memberikan rekomendasi film berbasis konten (CBF). Berdasarkan judul film yang dimasukkan, fungsi ini menghitung film-film yang paling mirip menggunakan cosine similarity dan mengembalikan rekomendasi yang relevan. Sistem ini sangat bergantung pada kesamaan fitur (genre) antar film."
      ],
      "metadata": {
        "id": "MbzSPV4msda_"
      }
    },
    {
      "cell_type": "markdown",
      "source": [
        "## 5.5 Contoh inferensi"
      ],
      "metadata": {
        "id": "TMx6gKImhevZ"
      }
    },
    {
      "cell_type": "code",
      "source": [
        "recommend_content(\"toy story (1995)\")"
      ],
      "metadata": {
        "colab": {
          "base_uri": "https://localhost:8080/",
          "height": 363
        },
        "id": "GLrUow8whcxy",
        "outputId": "3004c6c9-ee5a-48a1-9077-a60f18be6a23"
      },
      "execution_count": 51,
      "outputs": [
        {
          "output_type": "execute_result",
          "data": {
            "text/plain": [
              "                                          movie_title   genre\n",
              "1                                    goldeneye (1995)  1,2,16\n",
              "2                                   four rooms (1995)      16\n",
              "3                                   get shorty (1995)   1,5,8\n",
              "4                                      copycat (1995)  6,8,16\n",
              "5   shanghai triad (yao a yao yao dao waipo qiao) ...       8\n",
              "6                               twelve monkeys (1995)    8,15\n",
              "7                                         babe (1995)   4,5,8\n",
              "8                             dead man walking (1995)       8\n",
              "9                                  richard iii (1995)    8,17\n",
              "10                               seven (se7en) (1995)    6,16"
            ],
            "text/html": [
              "\n",
              "  <div id=\"df-09c3de49-a162-4097-85e2-38a71fa1c32f\" class=\"colab-df-container\">\n",
              "    <div>\n",
              "<style scoped>\n",
              "    .dataframe tbody tr th:only-of-type {\n",
              "        vertical-align: middle;\n",
              "    }\n",
              "\n",
              "    .dataframe tbody tr th {\n",
              "        vertical-align: top;\n",
              "    }\n",
              "\n",
              "    .dataframe thead th {\n",
              "        text-align: right;\n",
              "    }\n",
              "</style>\n",
              "<table border=\"1\" class=\"dataframe\">\n",
              "  <thead>\n",
              "    <tr style=\"text-align: right;\">\n",
              "      <th></th>\n",
              "      <th>movie_title</th>\n",
              "      <th>genre</th>\n",
              "    </tr>\n",
              "  </thead>\n",
              "  <tbody>\n",
              "    <tr>\n",
              "      <th>1</th>\n",
              "      <td>goldeneye (1995)</td>\n",
              "      <td>1,2,16</td>\n",
              "    </tr>\n",
              "    <tr>\n",
              "      <th>2</th>\n",
              "      <td>four rooms (1995)</td>\n",
              "      <td>16</td>\n",
              "    </tr>\n",
              "    <tr>\n",
              "      <th>3</th>\n",
              "      <td>get shorty (1995)</td>\n",
              "      <td>1,5,8</td>\n",
              "    </tr>\n",
              "    <tr>\n",
              "      <th>4</th>\n",
              "      <td>copycat (1995)</td>\n",
              "      <td>6,8,16</td>\n",
              "    </tr>\n",
              "    <tr>\n",
              "      <th>5</th>\n",
              "      <td>shanghai triad (yao a yao yao dao waipo qiao) ...</td>\n",
              "      <td>8</td>\n",
              "    </tr>\n",
              "    <tr>\n",
              "      <th>6</th>\n",
              "      <td>twelve monkeys (1995)</td>\n",
              "      <td>8,15</td>\n",
              "    </tr>\n",
              "    <tr>\n",
              "      <th>7</th>\n",
              "      <td>babe (1995)</td>\n",
              "      <td>4,5,8</td>\n",
              "    </tr>\n",
              "    <tr>\n",
              "      <th>8</th>\n",
              "      <td>dead man walking (1995)</td>\n",
              "      <td>8</td>\n",
              "    </tr>\n",
              "    <tr>\n",
              "      <th>9</th>\n",
              "      <td>richard iii (1995)</td>\n",
              "      <td>8,17</td>\n",
              "    </tr>\n",
              "    <tr>\n",
              "      <th>10</th>\n",
              "      <td>seven (se7en) (1995)</td>\n",
              "      <td>6,16</td>\n",
              "    </tr>\n",
              "  </tbody>\n",
              "</table>\n",
              "</div>\n",
              "    <div class=\"colab-df-buttons\">\n",
              "\n",
              "  <div class=\"colab-df-container\">\n",
              "    <button class=\"colab-df-convert\" onclick=\"convertToInteractive('df-09c3de49-a162-4097-85e2-38a71fa1c32f')\"\n",
              "            title=\"Convert this dataframe to an interactive table.\"\n",
              "            style=\"display:none;\">\n",
              "\n",
              "  <svg xmlns=\"http://www.w3.org/2000/svg\" height=\"24px\" viewBox=\"0 -960 960 960\">\n",
              "    <path d=\"M120-120v-720h720v720H120Zm60-500h600v-160H180v160Zm220 220h160v-160H400v160Zm0 220h160v-160H400v160ZM180-400h160v-160H180v160Zm440 0h160v-160H620v160ZM180-180h160v-160H180v160Zm440 0h160v-160H620v160Z\"/>\n",
              "  </svg>\n",
              "    </button>\n",
              "\n",
              "  <style>\n",
              "    .colab-df-container {\n",
              "      display:flex;\n",
              "      gap: 12px;\n",
              "    }\n",
              "\n",
              "    .colab-df-convert {\n",
              "      background-color: #E8F0FE;\n",
              "      border: none;\n",
              "      border-radius: 50%;\n",
              "      cursor: pointer;\n",
              "      display: none;\n",
              "      fill: #1967D2;\n",
              "      height: 32px;\n",
              "      padding: 0 0 0 0;\n",
              "      width: 32px;\n",
              "    }\n",
              "\n",
              "    .colab-df-convert:hover {\n",
              "      background-color: #E2EBFA;\n",
              "      box-shadow: 0px 1px 2px rgba(60, 64, 67, 0.3), 0px 1px 3px 1px rgba(60, 64, 67, 0.15);\n",
              "      fill: #174EA6;\n",
              "    }\n",
              "\n",
              "    .colab-df-buttons div {\n",
              "      margin-bottom: 4px;\n",
              "    }\n",
              "\n",
              "    [theme=dark] .colab-df-convert {\n",
              "      background-color: #3B4455;\n",
              "      fill: #D2E3FC;\n",
              "    }\n",
              "\n",
              "    [theme=dark] .colab-df-convert:hover {\n",
              "      background-color: #434B5C;\n",
              "      box-shadow: 0px 1px 3px 1px rgba(0, 0, 0, 0.15);\n",
              "      filter: drop-shadow(0px 1px 2px rgba(0, 0, 0, 0.3));\n",
              "      fill: #FFFFFF;\n",
              "    }\n",
              "  </style>\n",
              "\n",
              "    <script>\n",
              "      const buttonEl =\n",
              "        document.querySelector('#df-09c3de49-a162-4097-85e2-38a71fa1c32f button.colab-df-convert');\n",
              "      buttonEl.style.display =\n",
              "        google.colab.kernel.accessAllowed ? 'block' : 'none';\n",
              "\n",
              "      async function convertToInteractive(key) {\n",
              "        const element = document.querySelector('#df-09c3de49-a162-4097-85e2-38a71fa1c32f');\n",
              "        const dataTable =\n",
              "          await google.colab.kernel.invokeFunction('convertToInteractive',\n",
              "                                                    [key], {});\n",
              "        if (!dataTable) return;\n",
              "\n",
              "        const docLinkHtml = 'Like what you see? Visit the ' +\n",
              "          '<a target=\"_blank\" href=https://colab.research.google.com/notebooks/data_table.ipynb>data table notebook</a>'\n",
              "          + ' to learn more about interactive tables.';\n",
              "        element.innerHTML = '';\n",
              "        dataTable['output_type'] = 'display_data';\n",
              "        await google.colab.output.renderOutput(dataTable, element);\n",
              "        const docLink = document.createElement('div');\n",
              "        docLink.innerHTML = docLinkHtml;\n",
              "        element.appendChild(docLink);\n",
              "      }\n",
              "    </script>\n",
              "  </div>\n",
              "\n",
              "\n",
              "    <div id=\"df-50fae3cd-f684-4fb3-9615-05aae65d545b\">\n",
              "      <button class=\"colab-df-quickchart\" onclick=\"quickchart('df-50fae3cd-f684-4fb3-9615-05aae65d545b')\"\n",
              "                title=\"Suggest charts\"\n",
              "                style=\"display:none;\">\n",
              "\n",
              "<svg xmlns=\"http://www.w3.org/2000/svg\" height=\"24px\"viewBox=\"0 0 24 24\"\n",
              "     width=\"24px\">\n",
              "    <g>\n",
              "        <path d=\"M19 3H5c-1.1 0-2 .9-2 2v14c0 1.1.9 2 2 2h14c1.1 0 2-.9 2-2V5c0-1.1-.9-2-2-2zM9 17H7v-7h2v7zm4 0h-2V7h2v10zm4 0h-2v-4h2v4z\"/>\n",
              "    </g>\n",
              "</svg>\n",
              "      </button>\n",
              "\n",
              "<style>\n",
              "  .colab-df-quickchart {\n",
              "      --bg-color: #E8F0FE;\n",
              "      --fill-color: #1967D2;\n",
              "      --hover-bg-color: #E2EBFA;\n",
              "      --hover-fill-color: #174EA6;\n",
              "      --disabled-fill-color: #AAA;\n",
              "      --disabled-bg-color: #DDD;\n",
              "  }\n",
              "\n",
              "  [theme=dark] .colab-df-quickchart {\n",
              "      --bg-color: #3B4455;\n",
              "      --fill-color: #D2E3FC;\n",
              "      --hover-bg-color: #434B5C;\n",
              "      --hover-fill-color: #FFFFFF;\n",
              "      --disabled-bg-color: #3B4455;\n",
              "      --disabled-fill-color: #666;\n",
              "  }\n",
              "\n",
              "  .colab-df-quickchart {\n",
              "    background-color: var(--bg-color);\n",
              "    border: none;\n",
              "    border-radius: 50%;\n",
              "    cursor: pointer;\n",
              "    display: none;\n",
              "    fill: var(--fill-color);\n",
              "    height: 32px;\n",
              "    padding: 0;\n",
              "    width: 32px;\n",
              "  }\n",
              "\n",
              "  .colab-df-quickchart:hover {\n",
              "    background-color: var(--hover-bg-color);\n",
              "    box-shadow: 0 1px 2px rgba(60, 64, 67, 0.3), 0 1px 3px 1px rgba(60, 64, 67, 0.15);\n",
              "    fill: var(--button-hover-fill-color);\n",
              "  }\n",
              "\n",
              "  .colab-df-quickchart-complete:disabled,\n",
              "  .colab-df-quickchart-complete:disabled:hover {\n",
              "    background-color: var(--disabled-bg-color);\n",
              "    fill: var(--disabled-fill-color);\n",
              "    box-shadow: none;\n",
              "  }\n",
              "\n",
              "  .colab-df-spinner {\n",
              "    border: 2px solid var(--fill-color);\n",
              "    border-color: transparent;\n",
              "    border-bottom-color: var(--fill-color);\n",
              "    animation:\n",
              "      spin 1s steps(1) infinite;\n",
              "  }\n",
              "\n",
              "  @keyframes spin {\n",
              "    0% {\n",
              "      border-color: transparent;\n",
              "      border-bottom-color: var(--fill-color);\n",
              "      border-left-color: var(--fill-color);\n",
              "    }\n",
              "    20% {\n",
              "      border-color: transparent;\n",
              "      border-left-color: var(--fill-color);\n",
              "      border-top-color: var(--fill-color);\n",
              "    }\n",
              "    30% {\n",
              "      border-color: transparent;\n",
              "      border-left-color: var(--fill-color);\n",
              "      border-top-color: var(--fill-color);\n",
              "      border-right-color: var(--fill-color);\n",
              "    }\n",
              "    40% {\n",
              "      border-color: transparent;\n",
              "      border-right-color: var(--fill-color);\n",
              "      border-top-color: var(--fill-color);\n",
              "    }\n",
              "    60% {\n",
              "      border-color: transparent;\n",
              "      border-right-color: var(--fill-color);\n",
              "    }\n",
              "    80% {\n",
              "      border-color: transparent;\n",
              "      border-right-color: var(--fill-color);\n",
              "      border-bottom-color: var(--fill-color);\n",
              "    }\n",
              "    90% {\n",
              "      border-color: transparent;\n",
              "      border-bottom-color: var(--fill-color);\n",
              "    }\n",
              "  }\n",
              "</style>\n",
              "\n",
              "      <script>\n",
              "        async function quickchart(key) {\n",
              "          const quickchartButtonEl =\n",
              "            document.querySelector('#' + key + ' button');\n",
              "          quickchartButtonEl.disabled = true;  // To prevent multiple clicks.\n",
              "          quickchartButtonEl.classList.add('colab-df-spinner');\n",
              "          try {\n",
              "            const charts = await google.colab.kernel.invokeFunction(\n",
              "                'suggestCharts', [key], {});\n",
              "          } catch (error) {\n",
              "            console.error('Error during call to suggestCharts:', error);\n",
              "          }\n",
              "          quickchartButtonEl.classList.remove('colab-df-spinner');\n",
              "          quickchartButtonEl.classList.add('colab-df-quickchart-complete');\n",
              "        }\n",
              "        (() => {\n",
              "          let quickchartButtonEl =\n",
              "            document.querySelector('#df-50fae3cd-f684-4fb3-9615-05aae65d545b button');\n",
              "          quickchartButtonEl.style.display =\n",
              "            google.colab.kernel.accessAllowed ? 'block' : 'none';\n",
              "        })();\n",
              "      </script>\n",
              "    </div>\n",
              "\n",
              "    </div>\n",
              "  </div>\n"
            ],
            "application/vnd.google.colaboratory.intrinsic+json": {
              "type": "dataframe",
              "summary": "{\n  \"name\": \"recommend_content(\\\"toy story (1995)\\\")\",\n  \"rows\": 10,\n  \"fields\": [\n    {\n      \"column\": \"movie_title\",\n      \"properties\": {\n        \"dtype\": \"string\",\n        \"num_unique_values\": 10,\n        \"samples\": [\n          \"richard iii (1995)\",\n          \"four rooms (1995)\",\n          \"twelve monkeys (1995)\"\n        ],\n        \"semantic_type\": \"\",\n        \"description\": \"\"\n      }\n    },\n    {\n      \"column\": \"genre\",\n      \"properties\": {\n        \"dtype\": \"string\",\n        \"num_unique_values\": 9,\n        \"samples\": [\n          \"8,17\",\n          \"16\",\n          \"8,15\"\n        ],\n        \"semantic_type\": \"\",\n        \"description\": \"\"\n      }\n    }\n  ]\n}"
            }
          },
          "metadata": {},
          "execution_count": 51
        }
      ]
    },
    {
      "cell_type": "markdown",
      "source": [
        "# 6. COLLABORATIVE FILTERING\n"
      ],
      "metadata": {
        "id": "Q5eMsCsvcd5F"
      }
    },
    {
      "cell_type": "markdown",
      "source": [
        "\n",
        "## 6.1 Siapkan data untuk Surprise"
      ],
      "metadata": {
        "id": "mOb80Vhlji1a"
      }
    },
    {
      "cell_type": "code",
      "source": [
        "reader = Reader(rating_scale=(1, 5))\n",
        "data = Dataset.load_from_df(ratings[[\"user_id\", \"movie_id\", \"rating\"]], reader)"
      ],
      "metadata": {
        "id": "Eb7simp8jhnD"
      },
      "execution_count": 52,
      "outputs": []
    },
    {
      "cell_type": "markdown",
      "source": [
        "Insight:\n",
        "\n",
        "Cell ini menyiapkan data untuk digunakan dalam algoritma collaborative filtering menggunakan pustaka surprise. Data rating yang ada diubah menjadi format yang diterima oleh pustaka tersebut, memungkinkan kita untuk membangun model prediksi rating menggunakan teknik seperti SVD."
      ],
      "metadata": {
        "id": "640mRZZwsges"
      }
    },
    {
      "cell_type": "markdown",
      "source": [
        "## 6.2 Split train dan test"
      ],
      "metadata": {
        "id": "WCraHkRAikbJ"
      }
    },
    {
      "cell_type": "code",
      "source": [
        "trainset, testset = train_test_split(data, test_size=0.2, random_state=42)"
      ],
      "metadata": {
        "id": "4qTvjxhZii3O"
      },
      "execution_count": 53,
      "outputs": []
    },
    {
      "cell_type": "markdown",
      "source": [
        "Insight:\n",
        "\n",
        "Pada cell ini, data dibagi menjadi dua bagian: data pelatihan dan data pengujian. Pembagian ini penting untuk melatih model pada data pelatihan dan menguji kinerjanya pada data pengujian yang belum pernah dilihat sebelumnya. Hal ini untuk memastikan bahwa model tidak overfitting dan dapat digeneralisasi ke data baru."
      ],
      "metadata": {
        "id": "19qTlt6Csiq9"
      }
    },
    {
      "cell_type": "markdown",
      "source": [
        "\n",
        "## 6.3 Model SVD"
      ],
      "metadata": {
        "id": "0EqjXOMziffF"
      }
    },
    {
      "cell_type": "code",
      "source": [
        "model = SVD()\n",
        "model.fit(trainset)"
      ],
      "metadata": {
        "colab": {
          "base_uri": "https://localhost:8080/"
        },
        "id": "E1G9biueidi6",
        "outputId": "a3fe1d80-d468-4441-99c6-cfe3c44cc1b0"
      },
      "execution_count": 54,
      "outputs": [
        {
          "output_type": "execute_result",
          "data": {
            "text/plain": [
              "<surprise.prediction_algorithms.matrix_factorization.SVD at 0x78c3f6b51590>"
            ]
          },
          "metadata": {},
          "execution_count": 54
        }
      ]
    },
    {
      "cell_type": "markdown",
      "source": [
        "Insight:\n",
        "\n",
        "Cell ini melatih model SVD (Singular Value Decomposition), yang merupakan metode populer dalam collaborative filtering. SVD digunakan untuk mengurangi dimensi data dan menemukan pola yang dapat digunakan untuk memprediksi rating film yang belum diberi rating oleh pengguna."
      ],
      "metadata": {
        "id": "RtiIx_E7slOF"
      }
    },
    {
      "cell_type": "markdown",
      "source": [
        "## 6.4 Evaluasi"
      ],
      "metadata": {
        "id": "a2ZyPfUsicH2"
      }
    },
    {
      "cell_type": "code",
      "source": [
        "predictions = model.test(testset)\n",
        "rmse_score = rmse(predictions)\n"
      ],
      "metadata": {
        "colab": {
          "base_uri": "https://localhost:8080/"
        },
        "id": "8hXdUxwdiaiY",
        "outputId": "d69a8a57-a88c-4aef-d10d-ffb98cb78e3f"
      },
      "execution_count": 55,
      "outputs": [
        {
          "output_type": "stream",
          "name": "stdout",
          "text": [
            "RMSE: 0.9364\n"
          ]
        }
      ]
    },
    {
      "cell_type": "markdown",
      "source": [
        "Insight:\n",
        "\n",
        "Evaluasi dilakukan dengan menghitung RMSE (Root Mean Square Error) pada model SVD untuk menilai seberapa baik prediksi rating film oleh model. RMSE adalah metrik yang umum digunakan untuk mengevaluasi kinerja model prediktif."
      ],
      "metadata": {
        "id": "6yvcfE7psnfB"
      }
    },
    {
      "cell_type": "markdown",
      "source": [
        "## 6.5 Fungsi rekomendasi CBF (Collaborative Filtering)"
      ],
      "metadata": {
        "id": "q5GDZXUSiY1Q"
      }
    },
    {
      "cell_type": "code",
      "source": [
        "def recommend_collaborative(user_id, top_n=10):\n",
        "    movie_ids = ratings[\"movie_id\"].unique()\n",
        "    user_rated = ratings[ratings[\"user_id\"] == user_id][\"movie_id\"].tolist()\n",
        "    not_rated = [m for m in movie_ids if m not in user_rated]\n",
        "\n",
        "    predictions = [model.predict(user_id, m) for m in not_rated]\n",
        "    predictions.sort(key=lambda x: x.est, reverse=True)\n",
        "\n",
        "    top_predictions = predictions[:top_n]\n",
        "    movie_id_list = [pred.iid for pred in top_predictions]\n",
        "\n",
        "    return movies[movies[\"movie_id\"].isin(movie_id_list)][[\"movie_title\", \"genre\"]]"
      ],
      "metadata": {
        "id": "o83j0nrziWfo"
      },
      "execution_count": 56,
      "outputs": []
    },
    {
      "cell_type": "markdown",
      "source": [
        "Insight:\n",
        "\n",
        "Fungsi ini dirancang untuk memberikan rekomendasi film menggunakan metode collaborative filtering. Berdasarkan user_id, fungsi ini memprediksi film-film yang mungkin disukai oleh pengguna yang belum mereka rating, menggunakan model SVD yang telah dilatih sebelumnya.\n",
        "\n"
      ],
      "metadata": {
        "id": "Md_ligUCsrrX"
      }
    },
    {
      "cell_type": "markdown",
      "source": [
        "\n",
        "## 6.6 Contoh inferensi\n"
      ],
      "metadata": {
        "id": "zBNa4Gw5iPov"
      }
    },
    {
      "cell_type": "code",
      "source": [
        "recommend_collaborative(user_id=10)"
      ],
      "metadata": {
        "colab": {
          "base_uri": "https://localhost:8080/",
          "height": 363
        },
        "id": "-gNQXJY7iStc",
        "outputId": "2daeeab4-dc23-4744-c375-670c9f6173be"
      },
      "execution_count": 57,
      "outputs": [
        {
          "output_type": "execute_result",
          "data": {
            "text/plain": [
              "                             movie_title   genre\n",
              "135  mr. smith goes to washington (1939)       8\n",
              "189                       henry v (1989)    8,17\n",
              "312                       titanic (1997)  1,8,14\n",
              "317              schindler's list (1993)    8,17\n",
              "407                close shave, a (1995)  3,5,16\n",
              "519             great escape, the (1963)    2,17\n",
              "522                cool hand luke (1967)     5,8\n",
              "640                paths of glory (1957)    8,17\n",
              "646                           ran (1985)    8,17\n",
              "922         raise the red lantern (1991)       8"
            ],
            "text/html": [
              "\n",
              "  <div id=\"df-64960b48-f490-44cf-9252-2143a025749e\" class=\"colab-df-container\">\n",
              "    <div>\n",
              "<style scoped>\n",
              "    .dataframe tbody tr th:only-of-type {\n",
              "        vertical-align: middle;\n",
              "    }\n",
              "\n",
              "    .dataframe tbody tr th {\n",
              "        vertical-align: top;\n",
              "    }\n",
              "\n",
              "    .dataframe thead th {\n",
              "        text-align: right;\n",
              "    }\n",
              "</style>\n",
              "<table border=\"1\" class=\"dataframe\">\n",
              "  <thead>\n",
              "    <tr style=\"text-align: right;\">\n",
              "      <th></th>\n",
              "      <th>movie_title</th>\n",
              "      <th>genre</th>\n",
              "    </tr>\n",
              "  </thead>\n",
              "  <tbody>\n",
              "    <tr>\n",
              "      <th>135</th>\n",
              "      <td>mr. smith goes to washington (1939)</td>\n",
              "      <td>8</td>\n",
              "    </tr>\n",
              "    <tr>\n",
              "      <th>189</th>\n",
              "      <td>henry v (1989)</td>\n",
              "      <td>8,17</td>\n",
              "    </tr>\n",
              "    <tr>\n",
              "      <th>312</th>\n",
              "      <td>titanic (1997)</td>\n",
              "      <td>1,8,14</td>\n",
              "    </tr>\n",
              "    <tr>\n",
              "      <th>317</th>\n",
              "      <td>schindler's list (1993)</td>\n",
              "      <td>8,17</td>\n",
              "    </tr>\n",
              "    <tr>\n",
              "      <th>407</th>\n",
              "      <td>close shave, a (1995)</td>\n",
              "      <td>3,5,16</td>\n",
              "    </tr>\n",
              "    <tr>\n",
              "      <th>519</th>\n",
              "      <td>great escape, the (1963)</td>\n",
              "      <td>2,17</td>\n",
              "    </tr>\n",
              "    <tr>\n",
              "      <th>522</th>\n",
              "      <td>cool hand luke (1967)</td>\n",
              "      <td>5,8</td>\n",
              "    </tr>\n",
              "    <tr>\n",
              "      <th>640</th>\n",
              "      <td>paths of glory (1957)</td>\n",
              "      <td>8,17</td>\n",
              "    </tr>\n",
              "    <tr>\n",
              "      <th>646</th>\n",
              "      <td>ran (1985)</td>\n",
              "      <td>8,17</td>\n",
              "    </tr>\n",
              "    <tr>\n",
              "      <th>922</th>\n",
              "      <td>raise the red lantern (1991)</td>\n",
              "      <td>8</td>\n",
              "    </tr>\n",
              "  </tbody>\n",
              "</table>\n",
              "</div>\n",
              "    <div class=\"colab-df-buttons\">\n",
              "\n",
              "  <div class=\"colab-df-container\">\n",
              "    <button class=\"colab-df-convert\" onclick=\"convertToInteractive('df-64960b48-f490-44cf-9252-2143a025749e')\"\n",
              "            title=\"Convert this dataframe to an interactive table.\"\n",
              "            style=\"display:none;\">\n",
              "\n",
              "  <svg xmlns=\"http://www.w3.org/2000/svg\" height=\"24px\" viewBox=\"0 -960 960 960\">\n",
              "    <path d=\"M120-120v-720h720v720H120Zm60-500h600v-160H180v160Zm220 220h160v-160H400v160Zm0 220h160v-160H400v160ZM180-400h160v-160H180v160Zm440 0h160v-160H620v160ZM180-180h160v-160H180v160Zm440 0h160v-160H620v160Z\"/>\n",
              "  </svg>\n",
              "    </button>\n",
              "\n",
              "  <style>\n",
              "    .colab-df-container {\n",
              "      display:flex;\n",
              "      gap: 12px;\n",
              "    }\n",
              "\n",
              "    .colab-df-convert {\n",
              "      background-color: #E8F0FE;\n",
              "      border: none;\n",
              "      border-radius: 50%;\n",
              "      cursor: pointer;\n",
              "      display: none;\n",
              "      fill: #1967D2;\n",
              "      height: 32px;\n",
              "      padding: 0 0 0 0;\n",
              "      width: 32px;\n",
              "    }\n",
              "\n",
              "    .colab-df-convert:hover {\n",
              "      background-color: #E2EBFA;\n",
              "      box-shadow: 0px 1px 2px rgba(60, 64, 67, 0.3), 0px 1px 3px 1px rgba(60, 64, 67, 0.15);\n",
              "      fill: #174EA6;\n",
              "    }\n",
              "\n",
              "    .colab-df-buttons div {\n",
              "      margin-bottom: 4px;\n",
              "    }\n",
              "\n",
              "    [theme=dark] .colab-df-convert {\n",
              "      background-color: #3B4455;\n",
              "      fill: #D2E3FC;\n",
              "    }\n",
              "\n",
              "    [theme=dark] .colab-df-convert:hover {\n",
              "      background-color: #434B5C;\n",
              "      box-shadow: 0px 1px 3px 1px rgba(0, 0, 0, 0.15);\n",
              "      filter: drop-shadow(0px 1px 2px rgba(0, 0, 0, 0.3));\n",
              "      fill: #FFFFFF;\n",
              "    }\n",
              "  </style>\n",
              "\n",
              "    <script>\n",
              "      const buttonEl =\n",
              "        document.querySelector('#df-64960b48-f490-44cf-9252-2143a025749e button.colab-df-convert');\n",
              "      buttonEl.style.display =\n",
              "        google.colab.kernel.accessAllowed ? 'block' : 'none';\n",
              "\n",
              "      async function convertToInteractive(key) {\n",
              "        const element = document.querySelector('#df-64960b48-f490-44cf-9252-2143a025749e');\n",
              "        const dataTable =\n",
              "          await google.colab.kernel.invokeFunction('convertToInteractive',\n",
              "                                                    [key], {});\n",
              "        if (!dataTable) return;\n",
              "\n",
              "        const docLinkHtml = 'Like what you see? Visit the ' +\n",
              "          '<a target=\"_blank\" href=https://colab.research.google.com/notebooks/data_table.ipynb>data table notebook</a>'\n",
              "          + ' to learn more about interactive tables.';\n",
              "        element.innerHTML = '';\n",
              "        dataTable['output_type'] = 'display_data';\n",
              "        await google.colab.output.renderOutput(dataTable, element);\n",
              "        const docLink = document.createElement('div');\n",
              "        docLink.innerHTML = docLinkHtml;\n",
              "        element.appendChild(docLink);\n",
              "      }\n",
              "    </script>\n",
              "  </div>\n",
              "\n",
              "\n",
              "    <div id=\"df-ed4c175d-8960-46de-b508-f1a51c4e21e3\">\n",
              "      <button class=\"colab-df-quickchart\" onclick=\"quickchart('df-ed4c175d-8960-46de-b508-f1a51c4e21e3')\"\n",
              "                title=\"Suggest charts\"\n",
              "                style=\"display:none;\">\n",
              "\n",
              "<svg xmlns=\"http://www.w3.org/2000/svg\" height=\"24px\"viewBox=\"0 0 24 24\"\n",
              "     width=\"24px\">\n",
              "    <g>\n",
              "        <path d=\"M19 3H5c-1.1 0-2 .9-2 2v14c0 1.1.9 2 2 2h14c1.1 0 2-.9 2-2V5c0-1.1-.9-2-2-2zM9 17H7v-7h2v7zm4 0h-2V7h2v10zm4 0h-2v-4h2v4z\"/>\n",
              "    </g>\n",
              "</svg>\n",
              "      </button>\n",
              "\n",
              "<style>\n",
              "  .colab-df-quickchart {\n",
              "      --bg-color: #E8F0FE;\n",
              "      --fill-color: #1967D2;\n",
              "      --hover-bg-color: #E2EBFA;\n",
              "      --hover-fill-color: #174EA6;\n",
              "      --disabled-fill-color: #AAA;\n",
              "      --disabled-bg-color: #DDD;\n",
              "  }\n",
              "\n",
              "  [theme=dark] .colab-df-quickchart {\n",
              "      --bg-color: #3B4455;\n",
              "      --fill-color: #D2E3FC;\n",
              "      --hover-bg-color: #434B5C;\n",
              "      --hover-fill-color: #FFFFFF;\n",
              "      --disabled-bg-color: #3B4455;\n",
              "      --disabled-fill-color: #666;\n",
              "  }\n",
              "\n",
              "  .colab-df-quickchart {\n",
              "    background-color: var(--bg-color);\n",
              "    border: none;\n",
              "    border-radius: 50%;\n",
              "    cursor: pointer;\n",
              "    display: none;\n",
              "    fill: var(--fill-color);\n",
              "    height: 32px;\n",
              "    padding: 0;\n",
              "    width: 32px;\n",
              "  }\n",
              "\n",
              "  .colab-df-quickchart:hover {\n",
              "    background-color: var(--hover-bg-color);\n",
              "    box-shadow: 0 1px 2px rgba(60, 64, 67, 0.3), 0 1px 3px 1px rgba(60, 64, 67, 0.15);\n",
              "    fill: var(--button-hover-fill-color);\n",
              "  }\n",
              "\n",
              "  .colab-df-quickchart-complete:disabled,\n",
              "  .colab-df-quickchart-complete:disabled:hover {\n",
              "    background-color: var(--disabled-bg-color);\n",
              "    fill: var(--disabled-fill-color);\n",
              "    box-shadow: none;\n",
              "  }\n",
              "\n",
              "  .colab-df-spinner {\n",
              "    border: 2px solid var(--fill-color);\n",
              "    border-color: transparent;\n",
              "    border-bottom-color: var(--fill-color);\n",
              "    animation:\n",
              "      spin 1s steps(1) infinite;\n",
              "  }\n",
              "\n",
              "  @keyframes spin {\n",
              "    0% {\n",
              "      border-color: transparent;\n",
              "      border-bottom-color: var(--fill-color);\n",
              "      border-left-color: var(--fill-color);\n",
              "    }\n",
              "    20% {\n",
              "      border-color: transparent;\n",
              "      border-left-color: var(--fill-color);\n",
              "      border-top-color: var(--fill-color);\n",
              "    }\n",
              "    30% {\n",
              "      border-color: transparent;\n",
              "      border-left-color: var(--fill-color);\n",
              "      border-top-color: var(--fill-color);\n",
              "      border-right-color: var(--fill-color);\n",
              "    }\n",
              "    40% {\n",
              "      border-color: transparent;\n",
              "      border-right-color: var(--fill-color);\n",
              "      border-top-color: var(--fill-color);\n",
              "    }\n",
              "    60% {\n",
              "      border-color: transparent;\n",
              "      border-right-color: var(--fill-color);\n",
              "    }\n",
              "    80% {\n",
              "      border-color: transparent;\n",
              "      border-right-color: var(--fill-color);\n",
              "      border-bottom-color: var(--fill-color);\n",
              "    }\n",
              "    90% {\n",
              "      border-color: transparent;\n",
              "      border-bottom-color: var(--fill-color);\n",
              "    }\n",
              "  }\n",
              "</style>\n",
              "\n",
              "      <script>\n",
              "        async function quickchart(key) {\n",
              "          const quickchartButtonEl =\n",
              "            document.querySelector('#' + key + ' button');\n",
              "          quickchartButtonEl.disabled = true;  // To prevent multiple clicks.\n",
              "          quickchartButtonEl.classList.add('colab-df-spinner');\n",
              "          try {\n",
              "            const charts = await google.colab.kernel.invokeFunction(\n",
              "                'suggestCharts', [key], {});\n",
              "          } catch (error) {\n",
              "            console.error('Error during call to suggestCharts:', error);\n",
              "          }\n",
              "          quickchartButtonEl.classList.remove('colab-df-spinner');\n",
              "          quickchartButtonEl.classList.add('colab-df-quickchart-complete');\n",
              "        }\n",
              "        (() => {\n",
              "          let quickchartButtonEl =\n",
              "            document.querySelector('#df-ed4c175d-8960-46de-b508-f1a51c4e21e3 button');\n",
              "          quickchartButtonEl.style.display =\n",
              "            google.colab.kernel.accessAllowed ? 'block' : 'none';\n",
              "        })();\n",
              "      </script>\n",
              "    </div>\n",
              "\n",
              "    </div>\n",
              "  </div>\n"
            ],
            "application/vnd.google.colaboratory.intrinsic+json": {
              "type": "dataframe",
              "summary": "{\n  \"name\": \"recommend_collaborative(user_id=10)\",\n  \"rows\": 10,\n  \"fields\": [\n    {\n      \"column\": \"movie_title\",\n      \"properties\": {\n        \"dtype\": \"string\",\n        \"num_unique_values\": 10,\n        \"samples\": [\n          \"ran (1985)\",\n          \"henry v (1989)\",\n          \"great escape, the (1963)\"\n        ],\n        \"semantic_type\": \"\",\n        \"description\": \"\"\n      }\n    },\n    {\n      \"column\": \"genre\",\n      \"properties\": {\n        \"dtype\": \"string\",\n        \"num_unique_values\": 6,\n        \"samples\": [\n          \"8\",\n          \"8,17\",\n          \"5,8\"\n        ],\n        \"semantic_type\": \"\",\n        \"description\": \"\"\n      }\n    }\n  ]\n}"
            }
          },
          "metadata": {},
          "execution_count": 57
        }
      ]
    },
    {
      "cell_type": "markdown",
      "source": [
        "# 7. EVALUASI & PERBANDINGAN\n"
      ],
      "metadata": {
        "id": "R9AJgFDjc3pn"
      }
    },
    {
      "cell_type": "code",
      "source": [
        "cbf_sample = recommend_content(\"star wars (1977)\")\n",
        "cf_sample = recommend_collaborative(user_id=10)\n",
        "\n",
        "# Tampilkan tabel perbandingan (bisa dimodifikasi)\n",
        "print(\"Top rekomendasi Content-Based Filtering:\")\n",
        "print(cbf_sample)\n",
        "\n",
        "print(\"\\nTop rekomendasi Collaborative Filtering:\")\n",
        "print(cf_sample)"
      ],
      "metadata": {
        "colab": {
          "base_uri": "https://localhost:8080/"
        },
        "id": "F7uDp4YVc6zL",
        "outputId": "837f267b-bf81-44ec-ff31-d38452e591c1"
      },
      "execution_count": 59,
      "outputs": [
        {
          "output_type": "stream",
          "name": "stdout",
          "text": [
            "Top rekomendasi Content-Based Filtering:\n",
            "                                           movie_title           genre\n",
            "171                    empire strikes back, the (1980)  1,2,8,14,15,17\n",
            "180                          return of the jedi (1983)    1,2,14,15,17\n",
            "120                      independence day (id4) (1996)         1,15,17\n",
            "234                               mars attacks! (1996)       1,5,15,17\n",
            "270                           starship troopers (1997)       1,2,15,17\n",
            "473  dr. strangelove or: how i learned to stop worr...           15,17\n",
            "68                                 forrest gump (1994)         5,14,17\n",
            "132                          gone with the wind (1939)         8,14,17\n",
            "240                   last of the mohicans, the (1992)         1,14,17\n",
            "285                        english patient, the (1996)         8,14,17\n",
            "\n",
            "Top rekomendasi Collaborative Filtering:\n",
            "                             movie_title   genre\n",
            "135  mr. smith goes to washington (1939)       8\n",
            "189                       henry v (1989)    8,17\n",
            "312                       titanic (1997)  1,8,14\n",
            "317              schindler's list (1993)    8,17\n",
            "407                close shave, a (1995)  3,5,16\n",
            "519             great escape, the (1963)    2,17\n",
            "522                cool hand luke (1967)     5,8\n",
            "640                paths of glory (1957)    8,17\n",
            "646                           ran (1985)    8,17\n",
            "922         raise the red lantern (1991)       8\n"
          ]
        }
      ]
    },
    {
      "cell_type": "markdown",
      "source": [
        "Insight:\n",
        "\n",
        "Pada cell ini, dilakukan perbandingan antara dua jenis sistem rekomendasi: content-based filtering (CBF) dan collaborative filtering (CF). Dengan menunjukkan contoh rekomendasi untuk film tertentu dan pengguna tertentu, kita bisa mengevaluasi perbedaan hasil dari kedua pendekatan ini dan memutuskan mana yang lebih cocok untuk aplikasi yang diinginkan."
      ],
      "metadata": {
        "id": "OmSQxi4BsvdE"
      }
    }
  ]
}